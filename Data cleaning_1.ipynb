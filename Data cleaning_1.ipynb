{
 "cells": [
  {
   "cell_type": "code",
   "execution_count": 670,
   "metadata": {},
   "outputs": [],
   "source": [
    "import numpy as np\n",
    "import pandas as pd\n",
    "import matplotlib.pyplot as plt\n",
    "import seaborn as sns\n",
    "sns.set()\n",
    "%matplotlib inline\n",
    "pd.set_option('display.max_columns', None)"
   ]
  },
  {
   "cell_type": "code",
   "execution_count": 671,
   "metadata": {},
   "outputs": [],
   "source": [
    "raw_data = pd.read_excel('Data/test1.xlsx')"
   ]
  },
  {
   "cell_type": "code",
   "execution_count": 672,
   "metadata": {},
   "outputs": [
    {
     "data": {
      "text/html": [
       "<div>\n",
       "<style scoped>\n",
       "    .dataframe tbody tr th:only-of-type {\n",
       "        vertical-align: middle;\n",
       "    }\n",
       "\n",
       "    .dataframe tbody tr th {\n",
       "        vertical-align: top;\n",
       "    }\n",
       "\n",
       "    .dataframe thead th {\n",
       "        text-align: right;\n",
       "    }\n",
       "</style>\n",
       "<table border=\"1\" class=\"dataframe\">\n",
       "  <thead>\n",
       "    <tr style=\"text-align: right;\">\n",
       "      <th></th>\n",
       "      <th>Nr.</th>\n",
       "      <th>Nachweis\\naus</th>\n",
       "      <th>Position/\\nRegiebericht Nr.</th>\n",
       "      <th>In Nachtrag  enthalten</th>\n",
       "      <th>In Rechnung enthalten</th>\n",
       "      <th>Datum</th>\n",
       "      <th>Ausführende \\nFirma</th>\n",
       "      <th>Sachzusammenhang</th>\n",
       "      <th>Leistungs-\\nbeschreibung</th>\n",
       "      <th>Bauteil</th>\n",
       "      <th>Etage/\\nRaum</th>\n",
       "      <th>Ausführungs-\\nmenge</th>\n",
       "      <th>EP [€]</th>\n",
       "      <th>Material\\n [€]</th>\n",
       "      <th>GP\\n[€]</th>\n",
       "      <th>Weiterbelastung\\n an Firma</th>\n",
       "      <th>Weiterbelastungs-\\nmenge</th>\n",
       "      <th>Weiterbelastungs-\\nbetrag\\n [€]</th>\n",
       "      <th>Gründe</th>\n",
       "      <th>nicht weiterbelastbar</th>\n",
       "      <th>in SR abgezogen bei</th>\n",
       "    </tr>\n",
       "  </thead>\n",
       "  <tbody>\n",
       "    <tr>\n",
       "      <th>0</th>\n",
       "      <td>1.0</td>\n",
       "      <td>Beitragss-rechnung Allianz</td>\n",
       "      <td>NaN</td>\n",
       "      <td>NaN</td>\n",
       "      <td>NaN</td>\n",
       "      <td>NaN</td>\n",
       "      <td>Allianz</td>\n",
       "      <td>AG -Aufgaben</td>\n",
       "      <td>Verlängerung  AG Bauleistungsversicherungen</td>\n",
       "      <td>Alle</td>\n",
       "      <td>NaN</td>\n",
       "      <td>NaN</td>\n",
       "      <td>309</td>\n",
       "      <td>NaN</td>\n",
       "      <td>309.0</td>\n",
       "      <td>ist noch  festzulegen</td>\n",
       "      <td>NaN</td>\n",
       "      <td>309</td>\n",
       "      <td>Bauzeitenverlängerung</td>\n",
       "      <td>0</td>\n",
       "      <td>NaN</td>\n",
       "    </tr>\n",
       "    <tr>\n",
       "      <th>1</th>\n",
       "      <td>2.0</td>\n",
       "      <td>Stundenzettel</td>\n",
       "      <td>15045</td>\n",
       "      <td>NA05</td>\n",
       "      <td>NaN</td>\n",
       "      <td>15.04. - 18.04.2019</td>\n",
       "      <td>B&amp;M</td>\n",
       "      <td>Beschädigung der Attika</td>\n",
       "      <td>Attika: Nachgedämmte Flächen mit Armierung ein...</td>\n",
       "      <td>NaN</td>\n",
       "      <td>NaN</td>\n",
       "      <td>21</td>\n",
       "      <td>43.5</td>\n",
       "      <td>182.7</td>\n",
       "      <td>1096.2</td>\n",
       "      <td>Jahnke</td>\n",
       "      <td>21 h +182,70 /9</td>\n",
       "      <td>121.8</td>\n",
       "      <td>Mangelbehebung</td>\n",
       "      <td>0</td>\n",
       "      <td>Jahnke</td>\n",
       "    </tr>\n",
       "    <tr>\n",
       "      <th>2</th>\n",
       "      <td>3.0</td>\n",
       "      <td>Stundenzettel</td>\n",
       "      <td>15045</td>\n",
       "      <td>NA05</td>\n",
       "      <td>NaN</td>\n",
       "      <td>15.04. - 18.04.2019</td>\n",
       "      <td>B&amp;M</td>\n",
       "      <td>Beschädigung der Attika</td>\n",
       "      <td>Attika: Nachgedämmte Flächen mit Armierung ein...</td>\n",
       "      <td>BE</td>\n",
       "      <td>NaN</td>\n",
       "      <td>21</td>\n",
       "      <td>43.5</td>\n",
       "      <td>182.7</td>\n",
       "      <td>1096.2</td>\n",
       "      <td>MBM</td>\n",
       "      <td>21 h +182,70 /9</td>\n",
       "      <td>121.8</td>\n",
       "      <td>Mangelbehebung</td>\n",
       "      <td>0</td>\n",
       "      <td>MBM</td>\n",
       "    </tr>\n",
       "    <tr>\n",
       "      <th>3</th>\n",
       "      <td>4.0</td>\n",
       "      <td>Stundenzettel</td>\n",
       "      <td>15045</td>\n",
       "      <td>NA05</td>\n",
       "      <td>NaN</td>\n",
       "      <td>15.04. - 18.04.2019</td>\n",
       "      <td>B&amp;M</td>\n",
       "      <td>Beschädigung der Attika</td>\n",
       "      <td>Attika: Nachgedämmte Flächen mit Armierung ein...</td>\n",
       "      <td>NaN</td>\n",
       "      <td>NaN</td>\n",
       "      <td>21</td>\n",
       "      <td>43.5</td>\n",
       "      <td>182.7</td>\n",
       "      <td>1096.2</td>\n",
       "      <td>Hauke Runge</td>\n",
       "      <td>21 h +182,70 /9</td>\n",
       "      <td>121.8</td>\n",
       "      <td>Mangelbehebung</td>\n",
       "      <td>0</td>\n",
       "      <td>NaN</td>\n",
       "    </tr>\n",
       "    <tr>\n",
       "      <th>4</th>\n",
       "      <td>5.0</td>\n",
       "      <td>Stundenzettel</td>\n",
       "      <td>15045</td>\n",
       "      <td>NA05</td>\n",
       "      <td>NaN</td>\n",
       "      <td>15.04. - 18.04.2019</td>\n",
       "      <td>B&amp;M</td>\n",
       "      <td>Beschädigung der Attika</td>\n",
       "      <td>Attika: Nachgedämmte Flächen mit Armierung ein...</td>\n",
       "      <td>NaN</td>\n",
       "      <td>NaN</td>\n",
       "      <td>21</td>\n",
       "      <td>43.5</td>\n",
       "      <td>182.7</td>\n",
       "      <td>1096.2</td>\n",
       "      <td>Koha</td>\n",
       "      <td>21 h +182,70 /9</td>\n",
       "      <td>121.8</td>\n",
       "      <td>Mangelbehebung</td>\n",
       "      <td>0</td>\n",
       "      <td>Koha</td>\n",
       "    </tr>\n",
       "    <tr>\n",
       "      <th>...</th>\n",
       "      <td>...</td>\n",
       "      <td>...</td>\n",
       "      <td>...</td>\n",
       "      <td>...</td>\n",
       "      <td>...</td>\n",
       "      <td>...</td>\n",
       "      <td>...</td>\n",
       "      <td>...</td>\n",
       "      <td>...</td>\n",
       "      <td>...</td>\n",
       "      <td>...</td>\n",
       "      <td>...</td>\n",
       "      <td>...</td>\n",
       "      <td>...</td>\n",
       "      <td>...</td>\n",
       "      <td>...</td>\n",
       "      <td>...</td>\n",
       "      <td>...</td>\n",
       "      <td>...</td>\n",
       "      <td>...</td>\n",
       "      <td>...</td>\n",
       "    </tr>\n",
       "    <tr>\n",
       "      <th>545</th>\n",
       "      <td>485.0</td>\n",
       "      <td>6.AR</td>\n",
       "      <td>NA06-006</td>\n",
       "      <td>NaN</td>\n",
       "      <td>NaN</td>\n",
       "      <td>NaN</td>\n",
       "      <td>Spektral</td>\n",
       "      <td>Gerüstvorhaltung Fassade</td>\n",
       "      <td>Verlängerung der Vorhaltung zu Pos. NA06-005:\\...</td>\n",
       "      <td>BG1</td>\n",
       "      <td>NaN</td>\n",
       "      <td>11</td>\n",
       "      <td>26.8</td>\n",
       "      <td>0</td>\n",
       "      <td>294.8</td>\n",
       "      <td>MBM</td>\n",
       "      <td>11</td>\n",
       "      <td>294.8</td>\n",
       "      <td>Bauzeitenverlängerung</td>\n",
       "      <td>0</td>\n",
       "      <td>NaN</td>\n",
       "    </tr>\n",
       "    <tr>\n",
       "      <th>546</th>\n",
       "      <td>486.0</td>\n",
       "      <td>6.AR</td>\n",
       "      <td>NA06-002</td>\n",
       "      <td>NaN</td>\n",
       "      <td>NaN</td>\n",
       "      <td>NaN</td>\n",
       "      <td>Spektral</td>\n",
       "      <td>Gerüstvorhaltung Fassade</td>\n",
       "      <td>Verlängerung der Vorhaltung zu Pos. NA06-001\\n...</td>\n",
       "      <td>BG1</td>\n",
       "      <td>NaN</td>\n",
       "      <td>8</td>\n",
       "      <td>21</td>\n",
       "      <td>0</td>\n",
       "      <td>168.0</td>\n",
       "      <td>MBM</td>\n",
       "      <td>8</td>\n",
       "      <td>168</td>\n",
       "      <td>Bauzeitenverlängerung</td>\n",
       "      <td>0</td>\n",
       "      <td>NaN</td>\n",
       "    </tr>\n",
       "    <tr>\n",
       "      <th>547</th>\n",
       "      <td>487.0</td>\n",
       "      <td>Stundenzettel</td>\n",
       "      <td>Vieweg Stundenzettel Nr 40</td>\n",
       "      <td>NaN</td>\n",
       "      <td>SR</td>\n",
       "      <td>2019-06-03 00:00:00</td>\n",
       "      <td>Vieweg</td>\n",
       "      <td>ELT-Leistungen</td>\n",
       "      <td>gem. PTC:  Aufspitzen  Fussboden, 2 h</td>\n",
       "      <td>WG</td>\n",
       "      <td>NaN</td>\n",
       "      <td>2</td>\n",
       "      <td>35</td>\n",
       "      <td>NaN</td>\n",
       "      <td>70.0</td>\n",
       "      <td>Hauke Runge</td>\n",
       "      <td>NaN</td>\n",
       "      <td>70</td>\n",
       "      <td>NaN</td>\n",
       "      <td>NaN</td>\n",
       "      <td>NaN</td>\n",
       "    </tr>\n",
       "    <tr>\n",
       "      <th>548</th>\n",
       "      <td>489.0</td>\n",
       "      <td>6.AR</td>\n",
       "      <td>NA02-002</td>\n",
       "      <td>NaN</td>\n",
       "      <td>NaN</td>\n",
       "      <td>NaN</td>\n",
       "      <td>Spektral</td>\n",
       "      <td>Gerüstvorhaltung Fassade</td>\n",
       "      <td>Verlängerung der Vorhaltung zu Pos.NA02-001: S...</td>\n",
       "      <td>BG1</td>\n",
       "      <td>NaN</td>\n",
       "      <td>1</td>\n",
       "      <td>27</td>\n",
       "      <td>0</td>\n",
       "      <td>27.0</td>\n",
       "      <td>MBM</td>\n",
       "      <td>1</td>\n",
       "      <td>27</td>\n",
       "      <td>Bauzeitenverlängerung</td>\n",
       "      <td>0</td>\n",
       "      <td>NaN</td>\n",
       "    </tr>\n",
       "    <tr>\n",
       "      <th>549</th>\n",
       "      <td>91.0</td>\n",
       "      <td>Stundenzettel</td>\n",
       "      <td>6367</td>\n",
       "      <td>NaN</td>\n",
       "      <td>NaN</td>\n",
       "      <td>2019-01-08 00:00:00</td>\n",
       "      <td>B&amp;M</td>\n",
       "      <td>NaN</td>\n",
       "      <td>an- und abfahrt + Baustelleneinrichtung .\\nUG-...</td>\n",
       "      <td>BG1</td>\n",
       "      <td>UG</td>\n",
       "      <td>0</td>\n",
       "      <td>0</td>\n",
       "      <td>0</td>\n",
       "      <td>0.0</td>\n",
       "      <td>keine\\n Weiterbelastung (BH)</td>\n",
       "      <td>0</td>\n",
       "      <td>0</td>\n",
       "      <td>schon im LV enthaltten</td>\n",
       "      <td>NaN</td>\n",
       "      <td>NaN</td>\n",
       "    </tr>\n",
       "  </tbody>\n",
       "</table>\n",
       "<p>550 rows × 21 columns</p>\n",
       "</div>"
      ],
      "text/plain": [
       "       Nr.               Nachweis\\naus Position/\\nRegiebericht Nr.  \\\n",
       "0      1.0  Beitragss-rechnung Allianz                         NaN   \n",
       "1      2.0               Stundenzettel                       15045   \n",
       "2      3.0               Stundenzettel                       15045   \n",
       "3      4.0               Stundenzettel                       15045   \n",
       "4      5.0               Stundenzettel                       15045   \n",
       "..     ...                         ...                         ...   \n",
       "545  485.0                        6.AR                    NA06-006   \n",
       "546  486.0                        6.AR                    NA06-002   \n",
       "547  487.0               Stundenzettel  Vieweg Stundenzettel Nr 40   \n",
       "548  489.0                        6.AR                    NA02-002   \n",
       "549   91.0               Stundenzettel                        6367   \n",
       "\n",
       "    In Nachtrag  enthalten In Rechnung enthalten                Datum  \\\n",
       "0                      NaN                   NaN                  NaN   \n",
       "1                     NA05                   NaN  15.04. - 18.04.2019   \n",
       "2                     NA05                   NaN  15.04. - 18.04.2019   \n",
       "3                     NA05                   NaN  15.04. - 18.04.2019   \n",
       "4                     NA05                   NaN  15.04. - 18.04.2019   \n",
       "..                     ...                   ...                  ...   \n",
       "545                    NaN                   NaN                  NaN   \n",
       "546                    NaN                   NaN                  NaN   \n",
       "547                    NaN                    SR  2019-06-03 00:00:00   \n",
       "548                    NaN                   NaN                  NaN   \n",
       "549                    NaN                   NaN  2019-01-08 00:00:00   \n",
       "\n",
       "    Ausführende \\nFirma          Sachzusammenhang  \\\n",
       "0               Allianz             AG -Aufgaben    \n",
       "1                   B&M   Beschädigung der Attika   \n",
       "2                   B&M   Beschädigung der Attika   \n",
       "3                   B&M   Beschädigung der Attika   \n",
       "4                   B&M   Beschädigung der Attika   \n",
       "..                  ...                       ...   \n",
       "545            Spektral  Gerüstvorhaltung Fassade   \n",
       "546            Spektral  Gerüstvorhaltung Fassade   \n",
       "547              Vieweg           ELT-Leistungen    \n",
       "548            Spektral  Gerüstvorhaltung Fassade   \n",
       "549                 B&M                       NaN   \n",
       "\n",
       "                              Leistungs-\\nbeschreibung Bauteil Etage/\\nRaum  \\\n",
       "0         Verlängerung  AG Bauleistungsversicherungen     Alle          NaN   \n",
       "1    Attika: Nachgedämmte Flächen mit Armierung ein...     NaN          NaN   \n",
       "2    Attika: Nachgedämmte Flächen mit Armierung ein...      BE          NaN   \n",
       "3    Attika: Nachgedämmte Flächen mit Armierung ein...     NaN          NaN   \n",
       "4    Attika: Nachgedämmte Flächen mit Armierung ein...     NaN          NaN   \n",
       "..                                                 ...     ...          ...   \n",
       "545  Verlängerung der Vorhaltung zu Pos. NA06-005:\\...     BG1          NaN   \n",
       "546  Verlängerung der Vorhaltung zu Pos. NA06-001\\n...     BG1          NaN   \n",
       "547              gem. PTC:  Aufspitzen  Fussboden, 2 h      WG          NaN   \n",
       "548  Verlängerung der Vorhaltung zu Pos.NA02-001: S...     BG1          NaN   \n",
       "549  an- und abfahrt + Baustelleneinrichtung .\\nUG-...     BG1           UG   \n",
       "\n",
       "    Ausführungs-\\nmenge EP [€] Material\\n [€]  GP\\n[€]  \\\n",
       "0                   NaN    309            NaN    309.0   \n",
       "1                    21   43.5          182.7   1096.2   \n",
       "2                    21   43.5          182.7   1096.2   \n",
       "3                    21   43.5          182.7   1096.2   \n",
       "4                    21   43.5          182.7   1096.2   \n",
       "..                  ...    ...            ...      ...   \n",
       "545                  11   26.8              0    294.8   \n",
       "546                   8     21              0    168.0   \n",
       "547                   2     35            NaN     70.0   \n",
       "548                   1     27              0     27.0   \n",
       "549                   0      0              0      0.0   \n",
       "\n",
       "       Weiterbelastung\\n an Firma Weiterbelastungs-\\nmenge  \\\n",
       "0          ist noch  festzulegen                       NaN   \n",
       "1                          Jahnke          21 h +182,70 /9   \n",
       "2                             MBM          21 h +182,70 /9   \n",
       "3                     Hauke Runge          21 h +182,70 /9   \n",
       "4                            Koha          21 h +182,70 /9   \n",
       "..                            ...                      ...   \n",
       "545                           MBM                       11   \n",
       "546                           MBM                        8   \n",
       "547                   Hauke Runge                      NaN   \n",
       "548                           MBM                        1   \n",
       "549  keine\\n Weiterbelastung (BH)                        0   \n",
       "\n",
       "    Weiterbelastungs-\\nbetrag\\n [€]                  Gründe  \\\n",
       "0                               309   Bauzeitenverlängerung   \n",
       "1                             121.8          Mangelbehebung   \n",
       "2                             121.8          Mangelbehebung   \n",
       "3                             121.8          Mangelbehebung   \n",
       "4                             121.8          Mangelbehebung   \n",
       "..                              ...                     ...   \n",
       "545                           294.8   Bauzeitenverlängerung   \n",
       "546                             168   Bauzeitenverlängerung   \n",
       "547                              70                     NaN   \n",
       "548                              27   Bauzeitenverlängerung   \n",
       "549                               0  schon im LV enthaltten   \n",
       "\n",
       "    nicht weiterbelastbar in SR abgezogen bei  \n",
       "0                       0                 NaN  \n",
       "1                       0              Jahnke  \n",
       "2                       0                 MBM  \n",
       "3                       0                 NaN  \n",
       "4                       0                Koha  \n",
       "..                    ...                 ...  \n",
       "545                     0                 NaN  \n",
       "546                     0                 NaN  \n",
       "547                   NaN                 NaN  \n",
       "548                     0                 NaN  \n",
       "549                   NaN                 NaN  \n",
       "\n",
       "[550 rows x 21 columns]"
      ]
     },
     "execution_count": 672,
     "metadata": {},
     "output_type": "execute_result"
    }
   ],
   "source": [
    "raw_data.iloc[0:, :]"
   ]
  },
  {
   "cell_type": "code",
   "execution_count": 673,
   "metadata": {},
   "outputs": [
    {
     "data": {
      "text/plain": [
       "Index(['Nr.', 'Nachweis\\naus', 'Position/\\nRegiebericht Nr.',\n",
       "       'In Nachtrag  enthalten', 'In Rechnung enthalten', 'Datum',\n",
       "       'Ausführende \\nFirma', 'Sachzusammenhang', 'Leistungs-\\nbeschreibung',\n",
       "       'Bauteil', 'Etage/\\nRaum', 'Ausführungs-\\nmenge', 'EP [€]',\n",
       "       'Material\\n [€]', 'GP\\n[€]', 'Weiterbelastung\\n an Firma',\n",
       "       'Weiterbelastungs-\\nmenge', 'Weiterbelastungs-\\nbetrag\\n [€]', 'Gründe',\n",
       "       'nicht weiterbelastbar', 'in SR abgezogen bei'],\n",
       "      dtype='object')"
      ]
     },
     "execution_count": 673,
     "metadata": {},
     "output_type": "execute_result"
    }
   ],
   "source": [
    "raw_data.columns"
   ]
  },
  {
   "cell_type": "code",
   "execution_count": 674,
   "metadata": {},
   "outputs": [
    {
     "name": "stdout",
     "output_type": "stream",
     "text": [
      "<class 'pandas.core.frame.DataFrame'>\n",
      "RangeIndex: 550 entries, 0 to 549\n",
      "Data columns (total 21 columns):\n",
      " #   Column                         Non-Null Count  Dtype  \n",
      "---  ------                         --------------  -----  \n",
      " 0   Nr.                            549 non-null    float64\n",
      " 1   Nachweis\n",
      "aus                   545 non-null    object \n",
      " 2   Position/\n",
      "Regiebericht Nr.     540 non-null    object \n",
      " 3   In Nachtrag  enthalten         246 non-null    object \n",
      " 4   In Rechnung enthalten          115 non-null    object \n",
      " 5   Datum                          427 non-null    object \n",
      " 6   Ausführende \n",
      "Firma             548 non-null    object \n",
      " 7   Sachzusammenhang               543 non-null    object \n",
      " 8   Leistungs-\n",
      "beschreibung        547 non-null    object \n",
      " 9   Bauteil                        534 non-null    object \n",
      " 10  Etage/\n",
      "Raum                    393 non-null    object \n",
      " 11  Ausführungs-\n",
      "menge             499 non-null    object \n",
      " 12  EP [€]                         498 non-null    object \n",
      " 13  Material\n",
      " [€]                  263 non-null    object \n",
      " 14  GP\n",
      "[€]                         543 non-null    float64\n",
      " 15  Weiterbelastung\n",
      " an Firma      548 non-null    object \n",
      " 16  Weiterbelastungs-\n",
      "menge        492 non-null    object \n",
      " 17  Weiterbelastungs-\n",
      "betrag\n",
      " [€]  533 non-null    object \n",
      " 18  Gründe                         485 non-null    object \n",
      " 19  nicht weiterbelastbar          506 non-null    object \n",
      " 20  in SR abgezogen bei            284 non-null    object \n",
      "dtypes: float64(2), object(19)\n",
      "memory usage: 90.4+ KB\n"
     ]
    }
   ],
   "source": [
    "raw_data.info()"
   ]
  },
  {
   "cell_type": "code",
   "execution_count": 675,
   "metadata": {},
   "outputs": [],
   "source": [
    "raw_data = raw_data.iloc[:, :21]"
   ]
  },
  {
   "cell_type": "code",
   "execution_count": 676,
   "metadata": {},
   "outputs": [
    {
     "name": "stdout",
     "output_type": "stream",
     "text": [
      "<class 'pandas.core.frame.DataFrame'>\n",
      "RangeIndex: 550 entries, 0 to 549\n",
      "Data columns (total 21 columns):\n",
      " #   Column                         Non-Null Count  Dtype  \n",
      "---  ------                         --------------  -----  \n",
      " 0   Nr.                            549 non-null    float64\n",
      " 1   Nachweis\n",
      "aus                   545 non-null    object \n",
      " 2   Position/\n",
      "Regiebericht Nr.     540 non-null    object \n",
      " 3   In Nachtrag  enthalten         246 non-null    object \n",
      " 4   In Rechnung enthalten          115 non-null    object \n",
      " 5   Datum                          427 non-null    object \n",
      " 6   Ausführende \n",
      "Firma             548 non-null    object \n",
      " 7   Sachzusammenhang               543 non-null    object \n",
      " 8   Leistungs-\n",
      "beschreibung        547 non-null    object \n",
      " 9   Bauteil                        534 non-null    object \n",
      " 10  Etage/\n",
      "Raum                    393 non-null    object \n",
      " 11  Ausführungs-\n",
      "menge             499 non-null    object \n",
      " 12  EP [€]                         498 non-null    object \n",
      " 13  Material\n",
      " [€]                  263 non-null    object \n",
      " 14  GP\n",
      "[€]                         543 non-null    float64\n",
      " 15  Weiterbelastung\n",
      " an Firma      548 non-null    object \n",
      " 16  Weiterbelastungs-\n",
      "menge        492 non-null    object \n",
      " 17  Weiterbelastungs-\n",
      "betrag\n",
      " [€]  533 non-null    object \n",
      " 18  Gründe                         485 non-null    object \n",
      " 19  nicht weiterbelastbar          506 non-null    object \n",
      " 20  in SR abgezogen bei            284 non-null    object \n",
      "dtypes: float64(2), object(19)\n",
      "memory usage: 90.4+ KB\n"
     ]
    }
   ],
   "source": [
    "raw_data.info()"
   ]
  },
  {
   "cell_type": "code",
   "execution_count": 677,
   "metadata": {},
   "outputs": [
    {
     "data": {
      "text/html": [
       "<div>\n",
       "<style scoped>\n",
       "    .dataframe tbody tr th:only-of-type {\n",
       "        vertical-align: middle;\n",
       "    }\n",
       "\n",
       "    .dataframe tbody tr th {\n",
       "        vertical-align: top;\n",
       "    }\n",
       "\n",
       "    .dataframe thead th {\n",
       "        text-align: right;\n",
       "    }\n",
       "</style>\n",
       "<table border=\"1\" class=\"dataframe\">\n",
       "  <thead>\n",
       "    <tr style=\"text-align: right;\">\n",
       "      <th></th>\n",
       "      <th>Nr.</th>\n",
       "      <th>GP\\n[€]</th>\n",
       "    </tr>\n",
       "  </thead>\n",
       "  <tbody>\n",
       "    <tr>\n",
       "      <th>count</th>\n",
       "      <td>549.000000</td>\n",
       "      <td>543.000000</td>\n",
       "    </tr>\n",
       "    <tr>\n",
       "      <th>mean</th>\n",
       "      <td>285.386157</td>\n",
       "      <td>1505.105198</td>\n",
       "    </tr>\n",
       "    <tr>\n",
       "      <th>std</th>\n",
       "      <td>161.195161</td>\n",
       "      <td>3952.041882</td>\n",
       "    </tr>\n",
       "    <tr>\n",
       "      <th>min</th>\n",
       "      <td>1.000000</td>\n",
       "      <td>0.000000</td>\n",
       "    </tr>\n",
       "    <tr>\n",
       "      <th>25%</th>\n",
       "      <td>149.000000</td>\n",
       "      <td>249.678000</td>\n",
       "    </tr>\n",
       "    <tr>\n",
       "      <th>50%</th>\n",
       "      <td>286.000000</td>\n",
       "      <td>457.600000</td>\n",
       "    </tr>\n",
       "    <tr>\n",
       "      <th>75%</th>\n",
       "      <td>426.000000</td>\n",
       "      <td>1096.200000</td>\n",
       "    </tr>\n",
       "    <tr>\n",
       "      <th>max</th>\n",
       "      <td>558.000000</td>\n",
       "      <td>31871.558000</td>\n",
       "    </tr>\n",
       "  </tbody>\n",
       "</table>\n",
       "</div>"
      ],
      "text/plain": [
       "              Nr.       GP\\n[€]\n",
       "count  549.000000    543.000000\n",
       "mean   285.386157   1505.105198\n",
       "std    161.195161   3952.041882\n",
       "min      1.000000      0.000000\n",
       "25%    149.000000    249.678000\n",
       "50%    286.000000    457.600000\n",
       "75%    426.000000   1096.200000\n",
       "max    558.000000  31871.558000"
      ]
     },
     "execution_count": 677,
     "metadata": {},
     "output_type": "execute_result"
    }
   ],
   "source": [
    "raw_data.describe()"
   ]
  },
  {
   "cell_type": "code",
   "execution_count": 678,
   "metadata": {},
   "outputs": [
    {
     "data": {
      "text/html": [
       "<div>\n",
       "<style scoped>\n",
       "    .dataframe tbody tr th:only-of-type {\n",
       "        vertical-align: middle;\n",
       "    }\n",
       "\n",
       "    .dataframe tbody tr th {\n",
       "        vertical-align: top;\n",
       "    }\n",
       "\n",
       "    .dataframe thead th {\n",
       "        text-align: right;\n",
       "    }\n",
       "</style>\n",
       "<table border=\"1\" class=\"dataframe\">\n",
       "  <thead>\n",
       "    <tr style=\"text-align: right;\">\n",
       "      <th></th>\n",
       "      <th>Nr.</th>\n",
       "      <th>Nachweis\\naus</th>\n",
       "      <th>Position/\\nRegiebericht Nr.</th>\n",
       "      <th>In Nachtrag  enthalten</th>\n",
       "      <th>In Rechnung enthalten</th>\n",
       "      <th>Datum</th>\n",
       "      <th>Ausführende \\nFirma</th>\n",
       "      <th>Sachzusammenhang</th>\n",
       "      <th>Leistungs-\\nbeschreibung</th>\n",
       "      <th>Bauteil</th>\n",
       "      <th>Etage/\\nRaum</th>\n",
       "      <th>Ausführungs-\\nmenge</th>\n",
       "      <th>EP [€]</th>\n",
       "      <th>Material\\n [€]</th>\n",
       "      <th>GP\\n[€]</th>\n",
       "      <th>Weiterbelastung\\n an Firma</th>\n",
       "      <th>Weiterbelastungs-\\nmenge</th>\n",
       "      <th>Weiterbelastungs-\\nbetrag\\n [€]</th>\n",
       "      <th>Gründe</th>\n",
       "      <th>nicht weiterbelastbar</th>\n",
       "      <th>in SR abgezogen bei</th>\n",
       "    </tr>\n",
       "  </thead>\n",
       "  <tbody>\n",
       "    <tr>\n",
       "      <th>452</th>\n",
       "      <td>467.0</td>\n",
       "      <td>NA 11</td>\n",
       "      <td>NA 11-001</td>\n",
       "      <td>NA 11</td>\n",
       "      <td>NaN</td>\n",
       "      <td>2019-01-25 00:00:00</td>\n",
       "      <td>MBM</td>\n",
       "      <td>Brandschotts</td>\n",
       "      <td>Ertüchtigung Bransperre</td>\n",
       "      <td>BG1</td>\n",
       "      <td>Nord</td>\n",
       "      <td>NaN</td>\n",
       "      <td>NaN</td>\n",
       "      <td>NaN</td>\n",
       "      <td>24465.24</td>\n",
       "      <td>keine\\n Weiterbelastung (BH)</td>\n",
       "      <td>NaN</td>\n",
       "      <td>0</td>\n",
       "      <td>bauseits</td>\n",
       "      <td>24465.2</td>\n",
       "      <td>keine\\n Weiterbelastung (BH)</td>\n",
       "    </tr>\n",
       "    <tr>\n",
       "      <th>453</th>\n",
       "      <td>468.0</td>\n",
       "      <td>Stundenzettel</td>\n",
       "      <td>4</td>\n",
       "      <td>NaN</td>\n",
       "      <td>NaN</td>\n",
       "      <td>2019-04-26 00:00:00</td>\n",
       "      <td>MBM</td>\n",
       "      <td>Entfernung Dachpappe</td>\n",
       "      <td>Entfernung Dachpappe für Montage PR Fassade EG</td>\n",
       "      <td>BG1</td>\n",
       "      <td>EG</td>\n",
       "      <td>3</td>\n",
       "      <td>53</td>\n",
       "      <td>NaN</td>\n",
       "      <td>159.00</td>\n",
       "      <td>keine\\n Weiterbelastung (BH)</td>\n",
       "      <td>3</td>\n",
       "      <td>0</td>\n",
       "      <td>bauseits</td>\n",
       "      <td>159</td>\n",
       "      <td>keine\\n Weiterbelastung (BH)</td>\n",
       "    </tr>\n",
       "    <tr>\n",
       "      <th>454</th>\n",
       "      <td>469.0</td>\n",
       "      <td>Stundenzettel</td>\n",
       "      <td>3</td>\n",
       "      <td>NaN</td>\n",
       "      <td>NaN</td>\n",
       "      <td>2019-07-01 00:00:00</td>\n",
       "      <td>MBM</td>\n",
       "      <td>Montage Bautür</td>\n",
       "      <td>Einbau/ Wiedermontage Bautür inkl. Holzverschlag</td>\n",
       "      <td>BG1</td>\n",
       "      <td>EG</td>\n",
       "      <td>8</td>\n",
       "      <td>53</td>\n",
       "      <td>NaN</td>\n",
       "      <td>424.00</td>\n",
       "      <td>keine\\n Weiterbelastung (BH)</td>\n",
       "      <td>8</td>\n",
       "      <td>0</td>\n",
       "      <td>bauseits</td>\n",
       "      <td>424</td>\n",
       "      <td>keine\\n Weiterbelastung (BH)</td>\n",
       "    </tr>\n",
       "    <tr>\n",
       "      <th>455</th>\n",
       "      <td>470.0</td>\n",
       "      <td>Stundenzettel</td>\n",
       "      <td>2</td>\n",
       "      <td>NaN</td>\n",
       "      <td>NaN</td>\n",
       "      <td>2019-06-28 00:00:00</td>\n",
       "      <td>MBM</td>\n",
       "      <td>Demontage Bautür</td>\n",
       "      <td>Demontage Bauteile inkl. Holzverschlag für Ein...</td>\n",
       "      <td>BG1</td>\n",
       "      <td>EG</td>\n",
       "      <td>4</td>\n",
       "      <td>53</td>\n",
       "      <td>NaN</td>\n",
       "      <td>212.00</td>\n",
       "      <td>keine\\n Weiterbelastung (BH)</td>\n",
       "      <td>4</td>\n",
       "      <td>0</td>\n",
       "      <td>bauseits</td>\n",
       "      <td>212</td>\n",
       "      <td>keine\\n Weiterbelastung (BH)</td>\n",
       "    </tr>\n",
       "    <tr>\n",
       "      <th>456</th>\n",
       "      <td>471.0</td>\n",
       "      <td>Stundenzettel</td>\n",
       "      <td>1</td>\n",
       "      <td>NaN</td>\n",
       "      <td>NaN</td>\n",
       "      <td>2019-01-16 00:00:00</td>\n",
       "      <td>MBM</td>\n",
       "      <td>Beräumung EG</td>\n",
       "      <td>Beräumung EG Fläche zur Montage PF Fassade</td>\n",
       "      <td>BG1</td>\n",
       "      <td>EG</td>\n",
       "      <td>17.5</td>\n",
       "      <td>53</td>\n",
       "      <td>NaN</td>\n",
       "      <td>927.50</td>\n",
       "      <td>keine\\n Weiterbelastung (BH)</td>\n",
       "      <td>17.5</td>\n",
       "      <td>0</td>\n",
       "      <td>bauseits</td>\n",
       "      <td>927.5</td>\n",
       "      <td>keine\\n Weiterbelastung (BH)</td>\n",
       "    </tr>\n",
       "  </tbody>\n",
       "</table>\n",
       "</div>"
      ],
      "text/plain": [
       "       Nr.  Nachweis\\naus Position/\\nRegiebericht Nr. In Nachtrag  enthalten  \\\n",
       "452  467.0          NA 11                   NA 11-001                  NA 11   \n",
       "453  468.0  Stundenzettel                           4                    NaN   \n",
       "454  469.0  Stundenzettel                           3                    NaN   \n",
       "455  470.0  Stundenzettel                           2                    NaN   \n",
       "456  471.0  Stundenzettel                           1                    NaN   \n",
       "\n",
       "    In Rechnung enthalten                Datum Ausführende \\nFirma  \\\n",
       "452                   NaN  2019-01-25 00:00:00                 MBM   \n",
       "453                   NaN  2019-04-26 00:00:00                 MBM   \n",
       "454                   NaN  2019-07-01 00:00:00                 MBM   \n",
       "455                   NaN  2019-06-28 00:00:00                 MBM   \n",
       "456                   NaN  2019-01-16 00:00:00                 MBM   \n",
       "\n",
       "          Sachzusammenhang                           Leistungs-\\nbeschreibung  \\\n",
       "452           Brandschotts                            Ertüchtigung Bransperre   \n",
       "453  Entfernung Dachpappe      Entfernung Dachpappe für Montage PR Fassade EG   \n",
       "454         Montage Bautür   Einbau/ Wiedermontage Bautür inkl. Holzverschlag   \n",
       "455       Demontage Bautür  Demontage Bauteile inkl. Holzverschlag für Ein...   \n",
       "456           Beräumung EG        Beräumung EG Fläche zur Montage PF Fassade    \n",
       "\n",
       "    Bauteil Etage/\\nRaum Ausführungs-\\nmenge EP [€] Material\\n [€]   GP\\n[€]  \\\n",
       "452     BG1         Nord                 NaN    NaN            NaN  24465.24   \n",
       "453     BG1           EG                   3     53            NaN    159.00   \n",
       "454     BG1           EG                   8     53            NaN    424.00   \n",
       "455     BG1           EG                   4     53            NaN    212.00   \n",
       "456    BG1            EG                17.5     53            NaN    927.50   \n",
       "\n",
       "       Weiterbelastung\\n an Firma Weiterbelastungs-\\nmenge  \\\n",
       "452  keine\\n Weiterbelastung (BH)                      NaN   \n",
       "453  keine\\n Weiterbelastung (BH)                        3   \n",
       "454  keine\\n Weiterbelastung (BH)                        8   \n",
       "455  keine\\n Weiterbelastung (BH)                        4   \n",
       "456  keine\\n Weiterbelastung (BH)                     17.5   \n",
       "\n",
       "    Weiterbelastungs-\\nbetrag\\n [€]    Gründe nicht weiterbelastbar  \\\n",
       "452                               0  bauseits               24465.2   \n",
       "453                               0  bauseits                   159   \n",
       "454                               0  bauseits                   424   \n",
       "455                               0  bauseits                   212   \n",
       "456                               0  bauseits                 927.5   \n",
       "\n",
       "              in SR abgezogen bei  \n",
       "452  keine\\n Weiterbelastung (BH)  \n",
       "453  keine\\n Weiterbelastung (BH)  \n",
       "454  keine\\n Weiterbelastung (BH)  \n",
       "455  keine\\n Weiterbelastung (BH)  \n",
       "456  keine\\n Weiterbelastung (BH)  "
      ]
     },
     "execution_count": 678,
     "metadata": {},
     "output_type": "execute_result"
    }
   ],
   "source": [
    "raw_data[raw_data['Ausführende \\nFirma'] =='MBM']"
   ]
  },
  {
   "cell_type": "code",
   "execution_count": 679,
   "metadata": {},
   "outputs": [
    {
     "data": {
      "text/plain": [
       "['Nr.',\n",
       " 'Nachweisaus',\n",
       " 'Position/Regiebericht Nr.',\n",
       " 'In Nachtrag enthalten',\n",
       " 'In Rechnung enthalten',\n",
       " 'Datum',\n",
       " 'Ausführende Firma',\n",
       " 'Sachzusammenhang',\n",
       " 'Leistungs-beschreibung',\n",
       " 'Bauteil',\n",
       " 'Etage/Raum',\n",
       " 'Ausführungs-menge',\n",
       " 'EP [€]',\n",
       " 'Material [€]',\n",
       " 'GP[€]',\n",
       " 'Weiterbelastung an Firma',\n",
       " 'Weiterbelastungs-menge',\n",
       " 'Weiterbelastungs-betrag [€]',\n",
       " 'Gründe',\n",
       " 'nicht weiterbelastbar',\n",
       " 'in SR abgezogen bei']"
      ]
     },
     "execution_count": 679,
     "metadata": {},
     "output_type": "execute_result"
    }
   ],
   "source": [
    "# remove new line in column names and replace double spaces\n",
    "# with one space\n",
    "\n",
    "columns_renamed = [''.join(x.split('\\n')).replace('  ', ' ') for x in raw_data.columns]\n",
    "columns_renamed"
   ]
  },
  {
   "cell_type": "code",
   "execution_count": 680,
   "metadata": {},
   "outputs": [
    {
     "data": {
      "text/html": [
       "<div>\n",
       "<style scoped>\n",
       "    .dataframe tbody tr th:only-of-type {\n",
       "        vertical-align: middle;\n",
       "    }\n",
       "\n",
       "    .dataframe tbody tr th {\n",
       "        vertical-align: top;\n",
       "    }\n",
       "\n",
       "    .dataframe thead th {\n",
       "        text-align: right;\n",
       "    }\n",
       "</style>\n",
       "<table border=\"1\" class=\"dataframe\">\n",
       "  <thead>\n",
       "    <tr style=\"text-align: right;\">\n",
       "      <th></th>\n",
       "      <th>Nr.</th>\n",
       "      <th>Nachweisaus</th>\n",
       "      <th>Position/Regiebericht Nr.</th>\n",
       "      <th>In Nachtrag enthalten</th>\n",
       "      <th>In Rechnung enthalten</th>\n",
       "      <th>Datum</th>\n",
       "      <th>Ausführende Firma</th>\n",
       "      <th>Sachzusammenhang</th>\n",
       "      <th>Leistungs-beschreibung</th>\n",
       "      <th>Bauteil</th>\n",
       "      <th>Etage/Raum</th>\n",
       "      <th>Ausführungs-menge</th>\n",
       "      <th>EP [€]</th>\n",
       "      <th>Material [€]</th>\n",
       "      <th>GP[€]</th>\n",
       "      <th>Weiterbelastung an Firma</th>\n",
       "      <th>Weiterbelastungs-menge</th>\n",
       "      <th>Weiterbelastungs-betrag [€]</th>\n",
       "      <th>Gründe</th>\n",
       "      <th>nicht weiterbelastbar</th>\n",
       "      <th>in SR abgezogen bei</th>\n",
       "    </tr>\n",
       "  </thead>\n",
       "  <tbody>\n",
       "    <tr>\n",
       "      <th>0</th>\n",
       "      <td>1.0</td>\n",
       "      <td>Beitragss-rechnung Allianz</td>\n",
       "      <td>NaN</td>\n",
       "      <td>NaN</td>\n",
       "      <td>NaN</td>\n",
       "      <td>NaN</td>\n",
       "      <td>Allianz</td>\n",
       "      <td>AG -Aufgaben</td>\n",
       "      <td>Verlängerung  AG Bauleistungsversicherungen</td>\n",
       "      <td>Alle</td>\n",
       "      <td>NaN</td>\n",
       "      <td>NaN</td>\n",
       "      <td>309</td>\n",
       "      <td>NaN</td>\n",
       "      <td>309.0</td>\n",
       "      <td>ist noch  festzulegen</td>\n",
       "      <td>NaN</td>\n",
       "      <td>309</td>\n",
       "      <td>Bauzeitenverlängerung</td>\n",
       "      <td>0</td>\n",
       "      <td>NaN</td>\n",
       "    </tr>\n",
       "    <tr>\n",
       "      <th>1</th>\n",
       "      <td>2.0</td>\n",
       "      <td>Stundenzettel</td>\n",
       "      <td>15045</td>\n",
       "      <td>NA05</td>\n",
       "      <td>NaN</td>\n",
       "      <td>15.04. - 18.04.2019</td>\n",
       "      <td>B&amp;M</td>\n",
       "      <td>Beschädigung der Attika</td>\n",
       "      <td>Attika: Nachgedämmte Flächen mit Armierung ein...</td>\n",
       "      <td>NaN</td>\n",
       "      <td>NaN</td>\n",
       "      <td>21</td>\n",
       "      <td>43.5</td>\n",
       "      <td>182.7</td>\n",
       "      <td>1096.2</td>\n",
       "      <td>Jahnke</td>\n",
       "      <td>21 h +182,70 /9</td>\n",
       "      <td>121.8</td>\n",
       "      <td>Mangelbehebung</td>\n",
       "      <td>0</td>\n",
       "      <td>Jahnke</td>\n",
       "    </tr>\n",
       "    <tr>\n",
       "      <th>2</th>\n",
       "      <td>3.0</td>\n",
       "      <td>Stundenzettel</td>\n",
       "      <td>15045</td>\n",
       "      <td>NA05</td>\n",
       "      <td>NaN</td>\n",
       "      <td>15.04. - 18.04.2019</td>\n",
       "      <td>B&amp;M</td>\n",
       "      <td>Beschädigung der Attika</td>\n",
       "      <td>Attika: Nachgedämmte Flächen mit Armierung ein...</td>\n",
       "      <td>BE</td>\n",
       "      <td>NaN</td>\n",
       "      <td>21</td>\n",
       "      <td>43.5</td>\n",
       "      <td>182.7</td>\n",
       "      <td>1096.2</td>\n",
       "      <td>MBM</td>\n",
       "      <td>21 h +182,70 /9</td>\n",
       "      <td>121.8</td>\n",
       "      <td>Mangelbehebung</td>\n",
       "      <td>0</td>\n",
       "      <td>MBM</td>\n",
       "    </tr>\n",
       "    <tr>\n",
       "      <th>3</th>\n",
       "      <td>4.0</td>\n",
       "      <td>Stundenzettel</td>\n",
       "      <td>15045</td>\n",
       "      <td>NA05</td>\n",
       "      <td>NaN</td>\n",
       "      <td>15.04. - 18.04.2019</td>\n",
       "      <td>B&amp;M</td>\n",
       "      <td>Beschädigung der Attika</td>\n",
       "      <td>Attika: Nachgedämmte Flächen mit Armierung ein...</td>\n",
       "      <td>NaN</td>\n",
       "      <td>NaN</td>\n",
       "      <td>21</td>\n",
       "      <td>43.5</td>\n",
       "      <td>182.7</td>\n",
       "      <td>1096.2</td>\n",
       "      <td>Hauke Runge</td>\n",
       "      <td>21 h +182,70 /9</td>\n",
       "      <td>121.8</td>\n",
       "      <td>Mangelbehebung</td>\n",
       "      <td>0</td>\n",
       "      <td>NaN</td>\n",
       "    </tr>\n",
       "    <tr>\n",
       "      <th>4</th>\n",
       "      <td>5.0</td>\n",
       "      <td>Stundenzettel</td>\n",
       "      <td>15045</td>\n",
       "      <td>NA05</td>\n",
       "      <td>NaN</td>\n",
       "      <td>15.04. - 18.04.2019</td>\n",
       "      <td>B&amp;M</td>\n",
       "      <td>Beschädigung der Attika</td>\n",
       "      <td>Attika: Nachgedämmte Flächen mit Armierung ein...</td>\n",
       "      <td>NaN</td>\n",
       "      <td>NaN</td>\n",
       "      <td>21</td>\n",
       "      <td>43.5</td>\n",
       "      <td>182.7</td>\n",
       "      <td>1096.2</td>\n",
       "      <td>Koha</td>\n",
       "      <td>21 h +182,70 /9</td>\n",
       "      <td>121.8</td>\n",
       "      <td>Mangelbehebung</td>\n",
       "      <td>0</td>\n",
       "      <td>Koha</td>\n",
       "    </tr>\n",
       "  </tbody>\n",
       "</table>\n",
       "</div>"
      ],
      "text/plain": [
       "   Nr.                 Nachweisaus Position/Regiebericht Nr.  \\\n",
       "0  1.0  Beitragss-rechnung Allianz                       NaN   \n",
       "1  2.0               Stundenzettel                     15045   \n",
       "2  3.0               Stundenzettel                     15045   \n",
       "3  4.0               Stundenzettel                     15045   \n",
       "4  5.0               Stundenzettel                     15045   \n",
       "\n",
       "  In Nachtrag enthalten In Rechnung enthalten                Datum  \\\n",
       "0                   NaN                   NaN                  NaN   \n",
       "1                  NA05                   NaN  15.04. - 18.04.2019   \n",
       "2                  NA05                   NaN  15.04. - 18.04.2019   \n",
       "3                  NA05                   NaN  15.04. - 18.04.2019   \n",
       "4                  NA05                   NaN  15.04. - 18.04.2019   \n",
       "\n",
       "  Ausführende Firma         Sachzusammenhang  \\\n",
       "0           Allianz            AG -Aufgaben    \n",
       "1               B&M  Beschädigung der Attika   \n",
       "2               B&M  Beschädigung der Attika   \n",
       "3               B&M  Beschädigung der Attika   \n",
       "4               B&M  Beschädigung der Attika   \n",
       "\n",
       "                              Leistungs-beschreibung Bauteil Etage/Raum  \\\n",
       "0       Verlängerung  AG Bauleistungsversicherungen     Alle        NaN   \n",
       "1  Attika: Nachgedämmte Flächen mit Armierung ein...     NaN        NaN   \n",
       "2  Attika: Nachgedämmte Flächen mit Armierung ein...      BE        NaN   \n",
       "3  Attika: Nachgedämmte Flächen mit Armierung ein...     NaN        NaN   \n",
       "4  Attika: Nachgedämmte Flächen mit Armierung ein...     NaN        NaN   \n",
       "\n",
       "  Ausführungs-menge EP [€] Material [€]   GP[€] Weiterbelastung an Firma  \\\n",
       "0               NaN    309          NaN   309.0   ist noch  festzulegen    \n",
       "1                21   43.5        182.7  1096.2                   Jahnke   \n",
       "2                21   43.5        182.7  1096.2                      MBM   \n",
       "3                21   43.5        182.7  1096.2              Hauke Runge   \n",
       "4                21   43.5        182.7  1096.2                     Koha   \n",
       "\n",
       "  Weiterbelastungs-menge Weiterbelastungs-betrag [€]                 Gründe  \\\n",
       "0                    NaN                         309  Bauzeitenverlängerung   \n",
       "1        21 h +182,70 /9                       121.8         Mangelbehebung   \n",
       "2        21 h +182,70 /9                       121.8         Mangelbehebung   \n",
       "3        21 h +182,70 /9                       121.8         Mangelbehebung   \n",
       "4        21 h +182,70 /9                       121.8         Mangelbehebung   \n",
       "\n",
       "  nicht weiterbelastbar in SR abgezogen bei  \n",
       "0                     0                 NaN  \n",
       "1                     0              Jahnke  \n",
       "2                     0                 MBM  \n",
       "3                     0                 NaN  \n",
       "4                     0                Koha  "
      ]
     },
     "execution_count": 680,
     "metadata": {},
     "output_type": "execute_result"
    }
   ],
   "source": [
    "raw_data.columns = columns_renamed\n",
    "raw_data.head()"
   ]
  },
  {
   "cell_type": "code",
   "execution_count": 681,
   "metadata": {},
   "outputs": [
    {
     "name": "stdout",
     "output_type": "stream",
     "text": [
      "<class 'pandas.core.frame.DataFrame'>\n",
      "RangeIndex: 550 entries, 0 to 549\n",
      "Data columns (total 21 columns):\n",
      " #   Column                       Non-Null Count  Dtype  \n",
      "---  ------                       --------------  -----  \n",
      " 0   Nr.                          549 non-null    float64\n",
      " 1   Nachweisaus                  545 non-null    object \n",
      " 2   Position/Regiebericht Nr.    540 non-null    object \n",
      " 3   In Nachtrag enthalten        246 non-null    object \n",
      " 4   In Rechnung enthalten        115 non-null    object \n",
      " 5   Datum                        427 non-null    object \n",
      " 6   Ausführende Firma            548 non-null    object \n",
      " 7   Sachzusammenhang             543 non-null    object \n",
      " 8   Leistungs-beschreibung       547 non-null    object \n",
      " 9   Bauteil                      534 non-null    object \n",
      " 10  Etage/Raum                   393 non-null    object \n",
      " 11  Ausführungs-menge            499 non-null    object \n",
      " 12  EP [€]                       498 non-null    object \n",
      " 13  Material [€]                 263 non-null    object \n",
      " 14  GP[€]                        543 non-null    float64\n",
      " 15  Weiterbelastung an Firma     548 non-null    object \n",
      " 16  Weiterbelastungs-menge       492 non-null    object \n",
      " 17  Weiterbelastungs-betrag [€]  533 non-null    object \n",
      " 18  Gründe                       485 non-null    object \n",
      " 19  nicht weiterbelastbar        506 non-null    object \n",
      " 20  in SR abgezogen bei          284 non-null    object \n",
      "dtypes: float64(2), object(19)\n",
      "memory usage: 90.4+ KB\n"
     ]
    }
   ],
   "source": [
    "raw_data.info()"
   ]
  },
  {
   "cell_type": "code",
   "execution_count": 682,
   "metadata": {},
   "outputs": [],
   "source": [
    "# we can remove the column Nr. since its just an index\n",
    "#raw_data.drop('Nr.', axis=1, inplace = True)"
   ]
  },
  {
   "cell_type": "code",
   "execution_count": 683,
   "metadata": {},
   "outputs": [],
   "source": [
    "# remove unneeded column and columns with double information\n",
    "raw_data.drop(['in SR abgezogen bei',\n",
    "               'nicht weiterbelastbar',\n",
    "               'Weiterbelastungs-menge'], axis=1, inplace=True)"
   ]
  },
  {
   "cell_type": "code",
   "execution_count": 684,
   "metadata": {},
   "outputs": [
    {
     "data": {
      "text/plain": [
       "487.0    2\n",
       "558.0    2\n",
       "484.0    2\n",
       "541.0    2\n",
       "542.0    2\n",
       "        ..\n",
       "131.0    1\n",
       "413.0    1\n",
       "201.0    1\n",
       "203.0    1\n",
       "1.0      1\n",
       "Name: Nr., Length: 543, dtype: int64"
      ]
     },
     "execution_count": 684,
     "metadata": {},
     "output_type": "execute_result"
    }
   ],
   "source": [
    "# from this point im going to look at each column separately\n",
    "# column 1 : 'Nachweis aus'\n",
    "raw_data.iloc[:,0]. value_counts()"
   ]
  },
  {
   "cell_type": "code",
   "execution_count": 685,
   "metadata": {},
   "outputs": [],
   "source": [
    "# based on this it would make more sense to group some value together\n",
    "# NA stands for Nachtrag (suplamental invoice)\n",
    "# RE and AR are a type of Rechnung (Invoice)\n",
    "# MK stands for Mehrkostensanzeige (Increased cost notice)\n",
    "\n",
    "def group_labels(name):\n",
    "    for substr in ['Nachtrag', 'NA']:\n",
    "        if substr in str(name):\n",
    "            return 'nachtrag'\n",
    "    \n",
    "    for substr in ['AR', 'RE', 'rechnung', 'Rechnung']:\n",
    "        if substr in str(name):\n",
    "            return 'rechnung' \n",
    "        \n",
    "    for substr in ['MK', 'RE', 'rechnung']:\n",
    "        if substr in str(name):\n",
    "            return 'mehrkosten' \n",
    "    \n",
    "    return str(name)\n",
    "    \n",
    "\n"
   ]
  },
  {
   "cell_type": "code",
   "execution_count": 686,
   "metadata": {},
   "outputs": [],
   "source": [
    "raw_data['Nachweis_art'] = raw_data['Nachweisaus'].apply(group_labels)\n"
   ]
  },
  {
   "cell_type": "code",
   "execution_count": 687,
   "metadata": {},
   "outputs": [
    {
     "data": {
      "text/plain": [
       "Stundenzettel       444\n",
       "rechnung             45\n",
       "nachtrag             38\n",
       "Sondernutzung        10\n",
       "nan                   5\n",
       "mehrkosten            4\n",
       "Auftrag               3\n",
       "Kosten-schätzung      1\n",
       "Name: Nachweis_art, dtype: int64"
      ]
     },
     "execution_count": 687,
     "metadata": {},
     "output_type": "execute_result"
    }
   ],
   "source": [
    "raw_data['Nachweis_art'].value_counts()"
   ]
  },
  {
   "cell_type": "code",
   "execution_count": 688,
   "metadata": {},
   "outputs": [
    {
     "data": {
      "text/plain": [
       "([0, 1, 2, 3, 4, 5, 6, 7], <a list of 8 Text major ticklabel objects>)"
      ]
     },
     "execution_count": 688,
     "metadata": {},
     "output_type": "execute_result"
    },
    {
     "data": {
      "image/png": "[encoded data removed]",
      "text/plain": [
       "<Figure size 432x288 with 1 Axes>"
      ]
     },
     "metadata": {
      "needs_background": "light"
     },
     "output_type": "display_data"
    }
   ],
   "source": [
    "plt.hist(raw_data['Nachweis_art'])\n",
    "plt.tight_layout()\n",
    "plt.xticks(rotation=90)\n"
   ]
  },
  {
   "cell_type": "code",
   "execution_count": 689,
   "metadata": {},
   "outputs": [
    {
     "data": {
      "text/plain": [
       "0                      NaN\n",
       "1      15.04. - 18.04.2019\n",
       "2      15.04. - 18.04.2019\n",
       "3      15.04. - 18.04.2019\n",
       "4      15.04. - 18.04.2019\n",
       "              ...         \n",
       "545                    NaN\n",
       "546                    NaN\n",
       "547    2019-06-03 00:00:00\n",
       "548                    NaN\n",
       "549    2019-01-08 00:00:00\n",
       "Name: Datum, Length: 550, dtype: object"
      ]
     },
     "execution_count": 689,
     "metadata": {},
     "output_type": "execute_result"
    }
   ],
   "source": [
    "# column 'datum'\n",
    "raw_data['Datum']"
   ]
  },
  {
   "cell_type": "code",
   "execution_count": 690,
   "metadata": {},
   "outputs": [],
   "source": [
    "# Parse date column and keep only the finishing date\n",
    "raw_data['Datum'] = raw_data['Datum'].apply(lambda x: x.split('-')[-1] if (type(x) == str) else x)\n"
   ]
  },
  {
   "cell_type": "code",
   "execution_count": 691,
   "metadata": {},
   "outputs": [],
   "source": [
    "# change date to datetime\n",
    "raw_data['Datum'] = pd.to_datetime(raw_data['Datum'], errors='coerce')"
   ]
  },
  {
   "cell_type": "code",
   "execution_count": 692,
   "metadata": {},
   "outputs": [
    {
     "data": {
      "text/plain": [
       "array(['Alle', nan, 'BE', 'BG1', 'BE ', 'BG2', 'BG1 ', 'BG2\\n(38,8%)',\n",
       "       'BG1\\n(61,2%)', 'WG', 'wird geprüft', 'WG ', 'allg.', 'BG2 '],\n",
       "      dtype=object)"
      ]
     },
     "execution_count": 692,
     "metadata": {},
     "output_type": "execute_result"
    }
   ],
   "source": [
    "# Bauteil column\n",
    "raw_data['Bauteil'].unique()"
   ]
  },
  {
   "cell_type": "code",
   "execution_count": 693,
   "metadata": {},
   "outputs": [],
   "source": [
    "raw_data['Bauteil'] = raw_data['Bauteil'].apply(lambda x: str(x).strip())\n",
    "raw_data['Bauteil'] = raw_data['Bauteil'].apply(lambda x: x.split('\\n')[0])"
   ]
  },
  {
   "cell_type": "code",
   "execution_count": 694,
   "metadata": {},
   "outputs": [
    {
     "data": {
      "text/plain": [
       "BG1             261\n",
       "BE              116\n",
       "BG2              90\n",
       "WG               46\n",
       "nan              16\n",
       "wird geprüft     13\n",
       "Alle              7\n",
       "allg.             1\n",
       "Name: Bauteil, dtype: int64"
      ]
     },
     "execution_count": 694,
     "metadata": {},
     "output_type": "execute_result"
    }
   ],
   "source": [
    "raw_data['Bauteil'].value_counts()"
   ]
  },
  {
   "cell_type": "code",
   "execution_count": 695,
   "metadata": {},
   "outputs": [
    {
     "data": {
      "text/plain": [
       "array([nan, 21, 2, 4.5, 1, 2.5, 0.5, 7.5, 6.5, 6, 22.25, 3.88, 6.12, 22,\n",
       "       10, 4, 5, 30.5, 7, 28.5, 25, 12, 3.5, 16.5, 20, 40, 30, 'Pauschal',\n",
       "       8, 3, 11.25, 11.5, 12.5, 15, 16, 19, 22.5, 24, 43, '22,5*0,388',\n",
       "       '22,5*0,612', 'pauschal', '4 StWo', 18, '/', 14, '1 STk',\n",
       "       159357.79, 112097.5, 80998.86, 47320.96, 20004.5, 5556.2, 3710.6,\n",
       "       2945.1, 1.5, 32, 38, 9, 11, 5.5, 8.5, 17, 36, 46, 29, 50, 51, 377,\n",
       "       33.5, 13.5, 33, 20.5, 17.5, 1768, 1663.42, 912, 580, 247.5, 84, 23,\n",
       "       34, 10.75, 5.75, '4,00h', '1,00h', '0,50h', '3,00h', '2h', 0],\n",
       "      dtype=object)"
      ]
     },
     "execution_count": 695,
     "metadata": {},
     "output_type": "execute_result"
    }
   ],
   "source": [
    "# Ausführungs-menge\n",
    "raw_data['Ausführungs-menge'].unique()"
   ]
  },
  {
   "cell_type": "code",
   "execution_count": 696,
   "metadata": {},
   "outputs": [],
   "source": [
    "# Distinguish between measurment units "
   ]
  },
  {
   "cell_type": "code",
   "execution_count": 697,
   "metadata": {},
   "outputs": [],
   "source": [
    "# List of\n",
    "my_list = [91,\n",
    "336,\n",
    "337,\n",
    "338,\n",
    "339,\n",
    "340,\n",
    "341,\n",
    "342,\n",
    "343,\n",
    "344,\n",
    "345,\n",
    "473,\n",
    "474,\n",
    "475,\n",
    "476,\n",
    "483,\n",
    "484,\n",
    "485,\n",
    "486,\n",
    "488,\n",
    "489,\n",
    "490,\n",
    "491,\n",
    "493,\n",
    "494,\n",
    "495,\n",
    "541,\n",
    "542,\n",
    "559,\n",
    "560,\n",
    "561,\n",
    "562,\n",
    "563,\n",
    "]  \n"
   ]
  },
  {
   "cell_type": "code",
   "execution_count": 698,
   "metadata": {},
   "outputs": [],
   "source": [
    "raw_data['Stundenarbeit'] = raw_data[(raw_data['Nr.'].isin(my_list) == False)]['Ausführungs-menge']"
   ]
  },
  {
   "cell_type": "code",
   "execution_count": 699,
   "metadata": {},
   "outputs": [
    {
     "data": {
      "text/plain": [
       "array([nan, 21, 2, 4.5, 1, 2.5, 0.5, 7.5, 6.5, 6, 22.25, 3.88, 6.12, 22,\n",
       "       10, 4, 5, 30.5, 7, 28.5, 25, 12, 3.5, 16.5, 20, 40, 30, 'Pauschal',\n",
       "       8, 3, 11.25, 11.5, 12.5, 15, 16, 19, 22.5, 24, 43, '22,5*0,388',\n",
       "       '22,5*0,612', 'pauschal', 18, '/', 14, 1.5, 32, 38, 9, 11, 5.5,\n",
       "       8.5, 17, 36, 46, 29, 50, 51, 377, 33.5, 13.5, 33, 20.5, 17.5, 34,\n",
       "       10.75, 5.75, '4,00h', '1,00h', '0,50h', '3,00h', '2h'],\n",
       "      dtype=object)"
      ]
     },
     "execution_count": 699,
     "metadata": {},
     "output_type": "execute_result"
    }
   ],
   "source": [
    "raw_data['Stundenarbeit'].unique()"
   ]
  },
  {
   "cell_type": "code",
   "execution_count": 700,
   "metadata": {},
   "outputs": [],
   "source": [
    "def remove_non_numeric(value):\n",
    "    try:\n",
    "        value_new = float(value)\n",
    "    except ValueError:\n",
    "        if 'h' in value and value.capitalize() != 'Pauschal':\n",
    "            value_new = float(value.replace(',','.')[:-1])\n",
    "        else:\n",
    "            value_new = None\n",
    "    finally:\n",
    "        return value_new"
   ]
  },
  {
   "cell_type": "code",
   "execution_count": 701,
   "metadata": {},
   "outputs": [],
   "source": [
    "raw_data['Stundenarbeit'] = raw_data['Stundenarbeit'].apply(remove_non_numeric)"
   ]
  },
  {
   "cell_type": "code",
   "execution_count": 702,
   "metadata": {},
   "outputs": [
    {
     "data": {
      "text/plain": [
       "array([   nan,  21.  ,   2.  ,   4.5 ,   1.  ,   2.5 ,   0.5 ,   7.5 ,\n",
       "         6.5 ,   6.  ,  22.25,   3.88,   6.12,  22.  ,  10.  ,   4.  ,\n",
       "         5.  ,  30.5 ,   7.  ,  28.5 ,  25.  ,  12.  ,   3.5 ,  16.5 ,\n",
       "        20.  ,  40.  ,  30.  ,   8.  ,   3.  ,  11.25,  11.5 ,  12.5 ,\n",
       "        15.  ,  16.  ,  19.  ,  22.5 ,  24.  ,  43.  ,  18.  ,  14.  ,\n",
       "         1.5 ,  32.  ,  38.  ,   9.  ,  11.  ,   5.5 ,   8.5 ,  17.  ,\n",
       "        36.  ,  46.  ,  29.  ,  50.  ,  51.  , 377.  ,  33.5 ,  13.5 ,\n",
       "        33.  ,  20.5 ,  17.5 ,  34.  ,  10.75,   5.75])"
      ]
     },
     "execution_count": 702,
     "metadata": {},
     "output_type": "execute_result"
    }
   ],
   "source": [
    "raw_data['Stundenarbeit'].unique()"
   ]
  },
  {
   "cell_type": "code",
   "execution_count": 703,
   "metadata": {},
   "outputs": [
    {
     "data": {
      "text/html": [
       "<div>\n",
       "<style scoped>\n",
       "    .dataframe tbody tr th:only-of-type {\n",
       "        vertical-align: middle;\n",
       "    }\n",
       "\n",
       "    .dataframe tbody tr th {\n",
       "        vertical-align: top;\n",
       "    }\n",
       "\n",
       "    .dataframe thead th {\n",
       "        text-align: right;\n",
       "    }\n",
       "</style>\n",
       "<table border=\"1\" class=\"dataframe\">\n",
       "  <thead>\n",
       "    <tr style=\"text-align: right;\">\n",
       "      <th></th>\n",
       "      <th>Nr.</th>\n",
       "      <th>Nachweisaus</th>\n",
       "      <th>Position/Regiebericht Nr.</th>\n",
       "      <th>In Nachtrag enthalten</th>\n",
       "      <th>In Rechnung enthalten</th>\n",
       "      <th>Datum</th>\n",
       "      <th>Ausführende Firma</th>\n",
       "      <th>Sachzusammenhang</th>\n",
       "      <th>Leistungs-beschreibung</th>\n",
       "      <th>Bauteil</th>\n",
       "      <th>Etage/Raum</th>\n",
       "      <th>Ausführungs-menge</th>\n",
       "      <th>EP [€]</th>\n",
       "      <th>Material [€]</th>\n",
       "      <th>GP[€]</th>\n",
       "      <th>Weiterbelastung an Firma</th>\n",
       "      <th>Weiterbelastungs-betrag [€]</th>\n",
       "      <th>Gründe</th>\n",
       "      <th>Nachweis_art</th>\n",
       "      <th>Stundenarbeit</th>\n",
       "    </tr>\n",
       "  </thead>\n",
       "  <tbody>\n",
       "    <tr>\n",
       "      <th>0</th>\n",
       "      <td>1.0</td>\n",
       "      <td>Beitragss-rechnung Allianz</td>\n",
       "      <td>NaN</td>\n",
       "      <td>NaN</td>\n",
       "      <td>NaN</td>\n",
       "      <td>NaT</td>\n",
       "      <td>Allianz</td>\n",
       "      <td>AG -Aufgaben</td>\n",
       "      <td>Verlängerung  AG Bauleistungsversicherungen</td>\n",
       "      <td>Alle</td>\n",
       "      <td>NaN</td>\n",
       "      <td>NaN</td>\n",
       "      <td>309</td>\n",
       "      <td>NaN</td>\n",
       "      <td>309.0</td>\n",
       "      <td>ist noch  festzulegen</td>\n",
       "      <td>309</td>\n",
       "      <td>Bauzeitenverlängerung</td>\n",
       "      <td>rechnung</td>\n",
       "      <td>NaN</td>\n",
       "    </tr>\n",
       "    <tr>\n",
       "      <th>1</th>\n",
       "      <td>2.0</td>\n",
       "      <td>Stundenzettel</td>\n",
       "      <td>15045</td>\n",
       "      <td>NA05</td>\n",
       "      <td>NaN</td>\n",
       "      <td>2019-04-18</td>\n",
       "      <td>B&amp;M</td>\n",
       "      <td>Beschädigung der Attika</td>\n",
       "      <td>Attika: Nachgedämmte Flächen mit Armierung ein...</td>\n",
       "      <td>nan</td>\n",
       "      <td>NaN</td>\n",
       "      <td>21</td>\n",
       "      <td>43.5</td>\n",
       "      <td>182.7</td>\n",
       "      <td>1096.2</td>\n",
       "      <td>Jahnke</td>\n",
       "      <td>121.8</td>\n",
       "      <td>Mangelbehebung</td>\n",
       "      <td>Stundenzettel</td>\n",
       "      <td>21.0</td>\n",
       "    </tr>\n",
       "    <tr>\n",
       "      <th>2</th>\n",
       "      <td>3.0</td>\n",
       "      <td>Stundenzettel</td>\n",
       "      <td>15045</td>\n",
       "      <td>NA05</td>\n",
       "      <td>NaN</td>\n",
       "      <td>2019-04-18</td>\n",
       "      <td>B&amp;M</td>\n",
       "      <td>Beschädigung der Attika</td>\n",
       "      <td>Attika: Nachgedämmte Flächen mit Armierung ein...</td>\n",
       "      <td>BE</td>\n",
       "      <td>NaN</td>\n",
       "      <td>21</td>\n",
       "      <td>43.5</td>\n",
       "      <td>182.7</td>\n",
       "      <td>1096.2</td>\n",
       "      <td>MBM</td>\n",
       "      <td>121.8</td>\n",
       "      <td>Mangelbehebung</td>\n",
       "      <td>Stundenzettel</td>\n",
       "      <td>21.0</td>\n",
       "    </tr>\n",
       "    <tr>\n",
       "      <th>3</th>\n",
       "      <td>4.0</td>\n",
       "      <td>Stundenzettel</td>\n",
       "      <td>15045</td>\n",
       "      <td>NA05</td>\n",
       "      <td>NaN</td>\n",
       "      <td>2019-04-18</td>\n",
       "      <td>B&amp;M</td>\n",
       "      <td>Beschädigung der Attika</td>\n",
       "      <td>Attika: Nachgedämmte Flächen mit Armierung ein...</td>\n",
       "      <td>nan</td>\n",
       "      <td>NaN</td>\n",
       "      <td>21</td>\n",
       "      <td>43.5</td>\n",
       "      <td>182.7</td>\n",
       "      <td>1096.2</td>\n",
       "      <td>Hauke Runge</td>\n",
       "      <td>121.8</td>\n",
       "      <td>Mangelbehebung</td>\n",
       "      <td>Stundenzettel</td>\n",
       "      <td>21.0</td>\n",
       "    </tr>\n",
       "    <tr>\n",
       "      <th>4</th>\n",
       "      <td>5.0</td>\n",
       "      <td>Stundenzettel</td>\n",
       "      <td>15045</td>\n",
       "      <td>NA05</td>\n",
       "      <td>NaN</td>\n",
       "      <td>2019-04-18</td>\n",
       "      <td>B&amp;M</td>\n",
       "      <td>Beschädigung der Attika</td>\n",
       "      <td>Attika: Nachgedämmte Flächen mit Armierung ein...</td>\n",
       "      <td>nan</td>\n",
       "      <td>NaN</td>\n",
       "      <td>21</td>\n",
       "      <td>43.5</td>\n",
       "      <td>182.7</td>\n",
       "      <td>1096.2</td>\n",
       "      <td>Koha</td>\n",
       "      <td>121.8</td>\n",
       "      <td>Mangelbehebung</td>\n",
       "      <td>Stundenzettel</td>\n",
       "      <td>21.0</td>\n",
       "    </tr>\n",
       "  </tbody>\n",
       "</table>\n",
       "</div>"
      ],
      "text/plain": [
       "   Nr.                 Nachweisaus Position/Regiebericht Nr.  \\\n",
       "0  1.0  Beitragss-rechnung Allianz                       NaN   \n",
       "1  2.0               Stundenzettel                     15045   \n",
       "2  3.0               Stundenzettel                     15045   \n",
       "3  4.0               Stundenzettel                     15045   \n",
       "4  5.0               Stundenzettel                     15045   \n",
       "\n",
       "  In Nachtrag enthalten In Rechnung enthalten      Datum Ausführende Firma  \\\n",
       "0                   NaN                   NaN        NaT           Allianz   \n",
       "1                  NA05                   NaN 2019-04-18               B&M   \n",
       "2                  NA05                   NaN 2019-04-18               B&M   \n",
       "3                  NA05                   NaN 2019-04-18               B&M   \n",
       "4                  NA05                   NaN 2019-04-18               B&M   \n",
       "\n",
       "          Sachzusammenhang                             Leistungs-beschreibung  \\\n",
       "0            AG -Aufgaben        Verlängerung  AG Bauleistungsversicherungen    \n",
       "1  Beschädigung der Attika  Attika: Nachgedämmte Flächen mit Armierung ein...   \n",
       "2  Beschädigung der Attika  Attika: Nachgedämmte Flächen mit Armierung ein...   \n",
       "3  Beschädigung der Attika  Attika: Nachgedämmte Flächen mit Armierung ein...   \n",
       "4  Beschädigung der Attika  Attika: Nachgedämmte Flächen mit Armierung ein...   \n",
       "\n",
       "  Bauteil Etage/Raum Ausführungs-menge EP [€] Material [€]   GP[€]  \\\n",
       "0    Alle        NaN               NaN    309          NaN   309.0   \n",
       "1     nan        NaN                21   43.5        182.7  1096.2   \n",
       "2      BE        NaN                21   43.5        182.7  1096.2   \n",
       "3     nan        NaN                21   43.5        182.7  1096.2   \n",
       "4     nan        NaN                21   43.5        182.7  1096.2   \n",
       "\n",
       "  Weiterbelastung an Firma Weiterbelastungs-betrag [€]                 Gründe  \\\n",
       "0   ist noch  festzulegen                          309  Bauzeitenverlängerung   \n",
       "1                   Jahnke                       121.8         Mangelbehebung   \n",
       "2                      MBM                       121.8         Mangelbehebung   \n",
       "3              Hauke Runge                       121.8         Mangelbehebung   \n",
       "4                     Koha                       121.8         Mangelbehebung   \n",
       "\n",
       "    Nachweis_art  Stundenarbeit  \n",
       "0       rechnung            NaN  \n",
       "1  Stundenzettel           21.0  \n",
       "2  Stundenzettel           21.0  \n",
       "3  Stundenzettel           21.0  \n",
       "4  Stundenzettel           21.0  "
      ]
     },
     "execution_count": 703,
     "metadata": {},
     "output_type": "execute_result"
    }
   ],
   "source": [
    "raw_data.head()"
   ]
  },
  {
   "cell_type": "code",
   "execution_count": 704,
   "metadata": {},
   "outputs": [
    {
     "data": {
      "text/plain": [
       "array(['ist noch  festzulegen ', 'Jahnke', 'MBM', 'Hauke Runge', 'Koha',\n",
       "       'Vieweg', 'MFT', 'Lindner', 'EN+', 'B&M', 'Suhrkamp',\n",
       "       'Bauwesensversicherung', 'in Prüfung',\n",
       "       'keine\\n Weiterbelastung (BH)', ' Protec', 'Vattenfall',\n",
       "       'Mieterwunsch Creandum', 'BA', 'Protec', nan, 'En+',\n",
       "       ' Hauke Runge ', 'Protec ', 'Mieterwunsch/ BH', 'Bundschuh',\n",
       "       'hhvh'], dtype=object)"
      ]
     },
     "execution_count": 704,
     "metadata": {},
     "output_type": "execute_result"
    }
   ],
   "source": [
    "raw_data['Weiterbelastung an Firma'].unique()"
   ]
  },
  {
   "cell_type": "code",
   "execution_count": 705,
   "metadata": {},
   "outputs": [
    {
     "data": {
      "text/plain": [
       "array(['ist noch  festzulegen', 'Jahnke', 'MBM', 'Hauke Runge', 'Koha',\n",
       "       'Vieweg', 'MFT', 'Lindner', 'EN+', 'B&M', 'Suhrkamp',\n",
       "       'Bauwesensversicherung', 'in Prüfung',\n",
       "       'keine\\n Weiterbelastung (BH)', 'Protec', 'Vattenfall',\n",
       "       'Mieterwunsch Creandum', 'BA', nan, 'En+', 'Mieterwunsch/ BH',\n",
       "       'Bundschuh', 'hhvh'], dtype=object)"
      ]
     },
     "execution_count": 705,
     "metadata": {},
     "output_type": "execute_result"
    }
   ],
   "source": [
    "raw_data['Weiterbelastung an Firma'] = raw_data['Weiterbelastung an Firma'].apply(lambda x: x.strip() if (type(x) == str) else x)\n",
    "raw_data['Weiterbelastung an Firma'].unique()"
   ]
  },
  {
   "cell_type": "code",
   "execution_count": 706,
   "metadata": {},
   "outputs": [
    {
     "data": {
      "text/plain": [
       "(array([ 0,  1,  2,  3,  4,  5,  6,  7,  8,  9, 10, 11, 12, 13, 14]),\n",
       " <a list of 15 Text major ticklabel objects>)"
      ]
     },
     "execution_count": 706,
     "metadata": {},
     "output_type": "execute_result"
    },
    {
     "data": {
      "image/png": "[encoded data removed]",
      "text/plain": [
       "<Figure size 432x288 with 1 Axes>"
      ]
     },
     "metadata": {
      "needs_background": "light"
     },
     "output_type": "display_data"
    }
   ],
   "source": [
    "sns.countplot(raw_data['Ausführende Firma'])\n",
    "plt.tight_layout()\n",
    "plt.xticks(rotation=90)"
   ]
  },
  {
   "cell_type": "code",
   "execution_count": 707,
   "metadata": {},
   "outputs": [
    {
     "data": {
      "text/plain": [
       "(array([ 0,  1,  2,  3,  4,  5,  6,  7,  8,  9, 10, 11, 12, 13, 14, 15, 16,\n",
       "        17, 18, 19, 20, 21]),\n",
       " <a list of 22 Text major ticklabel objects>)"
      ]
     },
     "execution_count": 707,
     "metadata": {},
     "output_type": "execute_result"
    },
    {
     "data": {
      "image/png": "[encoded data removed]",
      "text/plain": [
       "<Figure size 432x288 with 1 Axes>"
      ]
     },
     "metadata": {
      "needs_background": "light"
     },
     "output_type": "display_data"
    }
   ],
   "source": [
    "sns.countplot(raw_data['Weiterbelastung an Firma'])\n",
    "plt.tight_layout()\n",
    "plt.xticks(rotation=90)"
   ]
  },
  {
   "cell_type": "code",
   "execution_count": 708,
   "metadata": {},
   "outputs": [
    {
     "data": {
      "text/plain": [
       "<matplotlib.axes._subplots.AxesSubplot at 0x22a100054f0>"
      ]
     },
     "execution_count": 708,
     "metadata": {},
     "output_type": "execute_result"
    },
    {
     "data": {
      "image/png": "[encoded data removed]",
      "text/plain": [
       "<Figure size 432x288 with 1 Axes>"
      ]
     },
     "metadata": {
      "needs_background": "light"
     },
     "output_type": "display_data"
    }
   ],
   "source": [
    "sns.distplot(raw_data['Stundenarbeit'])"
   ]
  },
  {
   "cell_type": "code",
   "execution_count": 709,
   "metadata": {},
   "outputs": [
    {
     "data": {
      "text/plain": [
       "0        309\n",
       "1      121.8\n",
       "2      121.8\n",
       "3      121.8\n",
       "4      121.8\n",
       "       ...  \n",
       "545    294.8\n",
       "546      168\n",
       "547       70\n",
       "548       27\n",
       "549        0\n",
       "Name: Weiterbelastungs-betrag [€], Length: 550, dtype: object"
      ]
     },
     "execution_count": 709,
     "metadata": {},
     "output_type": "execute_result"
    }
   ],
   "source": [
    "# Weiterbelastungs-betrag [€] column\n",
    "raw_data['Weiterbelastungs-betrag [€]']"
   ]
  },
  {
   "cell_type": "code",
   "execution_count": 710,
   "metadata": {},
   "outputs": [],
   "source": [
    "raw_data['Weiterbelastungs-betrag [€]'] = raw_data['Weiterbelastungs-betrag [€]'].apply(lambda x: round(x,2) if(type(x) != str) else None)"
   ]
  },
  {
   "cell_type": "code",
   "execution_count": 711,
   "metadata": {},
   "outputs": [
    {
     "data": {
      "text/plain": [
       "<matplotlib.axes._subplots.AxesSubplot at 0x22a102a87f0>"
      ]
     },
     "execution_count": 711,
     "metadata": {},
     "output_type": "execute_result"
    },
    {
     "data": {
      "image/png": "[encoded data removed]",
      "text/plain": [
       "<Figure size 432x288 with 1 Axes>"
      ]
     },
     "metadata": {
      "needs_background": "light"
     },
     "output_type": "display_data"
    }
   ],
   "source": [
    "sns.distplot(raw_data['Weiterbelastungs-betrag [€]'])"
   ]
  },
  {
   "cell_type": "code",
   "execution_count": 712,
   "metadata": {},
   "outputs": [
    {
     "data": {
      "text/html": [
       "<div>\n",
       "<style scoped>\n",
       "    .dataframe tbody tr th:only-of-type {\n",
       "        vertical-align: middle;\n",
       "    }\n",
       "\n",
       "    .dataframe tbody tr th {\n",
       "        vertical-align: top;\n",
       "    }\n",
       "\n",
       "    .dataframe thead th {\n",
       "        text-align: right;\n",
       "    }\n",
       "</style>\n",
       "<table border=\"1\" class=\"dataframe\">\n",
       "  <thead>\n",
       "    <tr style=\"text-align: right;\">\n",
       "      <th></th>\n",
       "      <th>Nr.</th>\n",
       "      <th>Nachweisaus</th>\n",
       "      <th>Position/Regiebericht Nr.</th>\n",
       "      <th>In Nachtrag enthalten</th>\n",
       "      <th>In Rechnung enthalten</th>\n",
       "      <th>Datum</th>\n",
       "      <th>Ausführende Firma</th>\n",
       "      <th>Sachzusammenhang</th>\n",
       "      <th>Leistungs-beschreibung</th>\n",
       "      <th>Bauteil</th>\n",
       "      <th>Etage/Raum</th>\n",
       "      <th>Ausführungs-menge</th>\n",
       "      <th>EP [€]</th>\n",
       "      <th>Material [€]</th>\n",
       "      <th>GP[€]</th>\n",
       "      <th>Weiterbelastung an Firma</th>\n",
       "      <th>Weiterbelastungs-betrag [€]</th>\n",
       "      <th>Gründe</th>\n",
       "      <th>Nachweis_art</th>\n",
       "      <th>Stundenarbeit</th>\n",
       "    </tr>\n",
       "  </thead>\n",
       "  <tbody>\n",
       "    <tr>\n",
       "      <th>323</th>\n",
       "      <td>335.0</td>\n",
       "      <td>43.AR</td>\n",
       "      <td>NA 31</td>\n",
       "      <td>NaN</td>\n",
       "      <td>NaN</td>\n",
       "      <td>NaT</td>\n",
       "      <td>KOHA</td>\n",
       "      <td>Gerüstvorhaltung Fassade</td>\n",
       "      <td>Nachtrag Bauaufzüge GEDA 1500\\n\\n</td>\n",
       "      <td>BE</td>\n",
       "      <td>NaN</td>\n",
       "      <td>/</td>\n",
       "      <td>/</td>\n",
       "      <td>0</td>\n",
       "      <td>11358.12</td>\n",
       "      <td>MBM</td>\n",
       "      <td>11358.12</td>\n",
       "      <td>Geänderte \\nAnfordeurungen</td>\n",
       "      <td>rechnung</td>\n",
       "      <td>NaN</td>\n",
       "    </tr>\n",
       "  </tbody>\n",
       "</table>\n",
       "</div>"
      ],
      "text/plain": [
       "       Nr. Nachweisaus Position/Regiebericht Nr. In Nachtrag enthalten  \\\n",
       "323  335.0       43.AR                     NA 31                   NaN   \n",
       "\n",
       "    In Rechnung enthalten Datum Ausführende Firma          Sachzusammenhang  \\\n",
       "323                   NaN   NaT              KOHA  Gerüstvorhaltung Fassade   \n",
       "\n",
       "                Leistungs-beschreibung Bauteil Etage/Raum Ausführungs-menge  \\\n",
       "323  Nachtrag Bauaufzüge GEDA 1500\\n\\n      BE        NaN                 /   \n",
       "\n",
       "    EP [€] Material [€]     GP[€] Weiterbelastung an Firma  \\\n",
       "323      /            0  11358.12                      MBM   \n",
       "\n",
       "     Weiterbelastungs-betrag [€]                      Gründe Nachweis_art  \\\n",
       "323                     11358.12  Geänderte \\nAnfordeurungen     rechnung   \n",
       "\n",
       "     Stundenarbeit  \n",
       "323            NaN  "
      ]
     },
     "execution_count": 712,
     "metadata": {},
     "output_type": "execute_result"
    }
   ],
   "source": [
    "raw_data[raw_data['Weiterbelastungs-betrag [€]'] > 10000]"
   ]
  },
  {
   "cell_type": "code",
   "execution_count": 713,
   "metadata": {},
   "outputs": [
    {
     "data": {
      "text/plain": [
       "(array([0, 1, 2, 3, 4, 5, 6, 7]), <a list of 8 Text major ticklabel objects>)"
      ]
     },
     "execution_count": 713,
     "metadata": {},
     "output_type": "execute_result"
    },
    {
     "data": {
      "image/png": "[encoded data removed]",
      "text/plain": [
       "<Figure size 432x288 with 1 Axes>"
      ]
     },
     "metadata": {
      "needs_background": "light"
     },
     "output_type": "display_data"
    }
   ],
   "source": [
    "sns.countplot(raw_data['Bauteil'])\n",
    "plt.tight_layout()\n",
    "plt.xticks(rotation=90)"
   ]
  },
  {
   "cell_type": "code",
   "execution_count": 714,
   "metadata": {},
   "outputs": [
    {
     "data": {
      "text/plain": [
       "array([nan, '6.OG', '2-5.OG', '4-6.OG', '5.OG', '2.OG', '5.Og', '1+2 OG',\n",
       "       '1.OG, WC', 'EG', 'Besprechugs-\\nraum', '1-6.OG\\nAchse I',\n",
       "       '1-3.OG', '2+1 OG', '1.OG', '4+3. OG', ' 5+6.OG ', '1.OG  -4.OG',\n",
       "       '1.OG - 6.OG', 'EG ', 'Gerüst BE', '4.OG', 'BE', '1.-4.OG', 'UG',\n",
       "       '1-6 OG', '1-6 Etage', '1-6.OG', 'UG-6.OG', 'UG-5.OG', 'DA', '/',\n",
       "       'Achse H 3.OG', 'Büros', 'Eingang BG2', 'WC 5+6.OG',\n",
       "       'WC \\n1-6. OG', '1-4.OG', 'EG\\nBesprechung', 'Gastro',\n",
       "       'R. 01.4.02', 'EG /Teeküche\\nBG2 1-5 OG Abstellrum',\n",
       "       '4.- 5.OG,\\n Flur + Abstellraum', '1. -3.OG, WC',\n",
       "       '4.OG, Raum 01.04.05  +\\nRaum 01.04.01', '1, -6.OG', '1-6. OG',\n",
       "       'EG-5.OG', '1-5.OG', 'UG WC', '1-6.OG ', '5.OG Flur',\n",
       "       '5.OG\\nFlur zu Dusche', '4+5 OG', '2.OG Abstellraum', 'EG Gastro',\n",
       "       ' ', 'Achse Y2/x2, 3.OG', '1. - 6.OG', '3+6.OG', '1. - 5.OG',\n",
       "       '2-4.OG', 'Nord', 'Nord Fluchttüren', 'Nord VSS', 'WG', 'Ost',\n",
       "       ' EG', '4-6.OG.', '1-3. OG '], dtype=object)"
      ]
     },
     "execution_count": 714,
     "metadata": {},
     "output_type": "execute_result"
    }
   ],
   "source": [
    "# etage/raum\n",
    "raw_data['Etage/Raum'].unique()"
   ]
  },
  {
   "cell_type": "code",
   "execution_count": 715,
   "metadata": {},
   "outputs": [],
   "source": [
    "# replace each value with a proxy since im not interrested in the exact invoice number, but rather \n",
    "# the amount of unique invoice numbers available\n",
    "\n",
    "raw_data['Position/Regiebericht Nr.'] = raw_data['Position/Regiebericht Nr.'].apply(str)\n",
    "list_of_invoices = raw_data['Position/Regiebericht Nr.'].unique()\n",
    "import random\n",
    "used_numbers = []\n",
    "dummies_dict = {}\n",
    "for i in list_of_invoices:\n",
    "    key = i\n",
    "    value = random.randint(1000, 9999)\n",
    "    used_numbers.append(value)\n",
    "    while value in used_numbers:\n",
    "        value = random.randint(1000, 9999)\n",
    "    \n",
    "    dummies_dict[key] = value\n",
    "        \n",
    "    "
   ]
  },
  {
   "cell_type": "code",
   "execution_count": 716,
   "metadata": {},
   "outputs": [],
   "source": [
    "raw_data['reference_nr'] = raw_data['Position/Regiebericht Nr.'].map(dummies_dict)"
   ]
  },
  {
   "cell_type": "code",
   "execution_count": 717,
   "metadata": {},
   "outputs": [
    {
     "data": {
      "text/plain": [
       "0      1286\n",
       "1      2298\n",
       "2      2298\n",
       "3      2298\n",
       "4      2298\n",
       "       ... \n",
       "545    9651\n",
       "546    5233\n",
       "547    4810\n",
       "548    4673\n",
       "549    3305\n",
       "Name: reference_nr, Length: 550, dtype: int64"
      ]
     },
     "execution_count": 717,
     "metadata": {},
     "output_type": "execute_result"
    }
   ],
   "source": [
    "raw_data['reference_nr']"
   ]
  },
  {
   "cell_type": "code",
   "execution_count": 718,
   "metadata": {},
   "outputs": [
    {
     "data": {
      "text/plain": [
       "Index(['Nr.', 'Nachweisaus', 'Position/Regiebericht Nr.',\n",
       "       'In Nachtrag enthalten', 'In Rechnung enthalten', 'Datum',\n",
       "       'Ausführende Firma', 'Sachzusammenhang', 'Leistungs-beschreibung',\n",
       "       'Bauteil', 'Etage/Raum', 'Ausführungs-menge', 'EP [€]', 'Material [€]',\n",
       "       'GP[€]', 'Weiterbelastung an Firma', 'Weiterbelastungs-betrag [€]',\n",
       "       'Gründe', 'Nachweis_art', 'Stundenarbeit', 'reference_nr'],\n",
       "      dtype='object')"
      ]
     },
     "execution_count": 718,
     "metadata": {},
     "output_type": "execute_result"
    }
   ],
   "source": [
    "raw_data.columns"
   ]
  },
  {
   "cell_type": "code",
   "execution_count": 719,
   "metadata": {},
   "outputs": [],
   "source": [
    "data_clean = raw_data[['Datum','reference_nr',\n",
    "       'Ausführende Firma', 'Sachzusammenhang', 'Leistungs-beschreibung',\n",
    "       'Bauteil','GP[€]', 'Weiterbelastung an Firma', 'Weiterbelastungs-betrag [€]',\n",
    "       'Gründe', 'Nachweis_art', 'Stundenarbeit']].copy()"
   ]
  },
  {
   "cell_type": "code",
   "execution_count": 720,
   "metadata": {},
   "outputs": [
    {
     "name": "stdout",
     "output_type": "stream",
     "text": [
      "<class 'pandas.core.frame.DataFrame'>\n",
      "RangeIndex: 550 entries, 0 to 549\n",
      "Data columns (total 12 columns):\n",
      " #   Column                       Non-Null Count  Dtype         \n",
      "---  ------                       --------------  -----         \n",
      " 0   Datum                        426 non-null    datetime64[ns]\n",
      " 1   reference_nr                 550 non-null    int64         \n",
      " 2   Ausführende Firma            548 non-null    object        \n",
      " 3   Sachzusammenhang             543 non-null    object        \n",
      " 4   Leistungs-beschreibung       547 non-null    object        \n",
      " 5   Bauteil                      550 non-null    object        \n",
      " 6   GP[€]                        543 non-null    float64       \n",
      " 7   Weiterbelastung an Firma     548 non-null    object        \n",
      " 8   Weiterbelastungs-betrag [€]  532 non-null    float64       \n",
      " 9   Gründe                       485 non-null    object        \n",
      " 10  Nachweis_art                 550 non-null    object        \n",
      " 11  Stundenarbeit                434 non-null    float64       \n",
      "dtypes: datetime64[ns](1), float64(3), int64(1), object(7)\n",
      "memory usage: 51.7+ KB\n"
     ]
    }
   ],
   "source": [
    "data_clean.info()"
   ]
  },
  {
   "cell_type": "code",
   "execution_count": 721,
   "metadata": {},
   "outputs": [
    {
     "data": {
      "image/png": "[encoded data removed]",
      "text/plain": [
       "<Figure size 1080x720 with 1 Axes>"
      ]
     },
     "metadata": {
      "needs_background": "light"
     },
     "output_type": "display_data"
    }
   ],
   "source": [
    "#check for missing values\n",
    "# Yellow = NAN value\n",
    "plt.figure(figsize = (15,10))\n",
    "sns.heatmap(data_clean.isnull(),\n",
    "            yticklabels=False,\n",
    "            cbar=False,\n",
    "            cmap='viridis');"
   ]
  },
  {
   "cell_type": "code",
   "execution_count": 722,
   "metadata": {},
   "outputs": [],
   "source": [
    "data_clean.to_csv('Data/data_clean')"
   ]
  },
  {
   "cell_type": "markdown",
   "metadata": {},
   "source": [
    "## Data Exploration"
   ]
  },
  {
   "cell_type": "code",
   "execution_count": 723,
   "metadata": {},
   "outputs": [
    {
     "data": {
      "text/html": [
       "        <script type=\"text/javascript\">\n",
       "        window.PlotlyConfig = {MathJaxConfig: 'local'};\n",
       "        if (window.MathJax) {MathJax.Hub.Config({SVG: {font: \"STIX-Web\"}});}\n",
       "        if (typeof require !== 'undefined') {\n",
       "        require.undef(\"plotly\");\n",
       "        requirejs.config({\n",
       "            paths: {\n",
       "                'plotly': ['https://cdn.plot.ly/plotly-latest.min']\n",
       "            }\n",
       "        });\n",
       "        require(['plotly'], function(Plotly) {\n",
       "            window._Plotly = Plotly;\n",
       "        });\n",
       "        }\n",
       "        </script>\n",
       "        "
      ]
     },
     "metadata": {},
     "output_type": "display_data"
    },
    {
     "data": {
      "text/html": [
       "        <script type=\"text/javascript\">\n",
       "        window.PlotlyConfig = {MathJaxConfig: 'local'};\n",
       "        if (window.MathJax) {MathJax.Hub.Config({SVG: {font: \"STIX-Web\"}});}\n",
       "        if (typeof require !== 'undefined') {\n",
       "        require.undef(\"plotly\");\n",
       "        requirejs.config({\n",
       "            paths: {\n",
       "                'plotly': ['https://cdn.plot.ly/plotly-latest.min']\n",
       "            }\n",
       "        });\n",
       "        require(['plotly'], function(Plotly) {\n",
       "            window._Plotly = Plotly;\n",
       "        });\n",
       "        }\n",
       "        </script>\n",
       "        "
      ]
     },
     "metadata": {},
     "output_type": "display_data"
    }
   ],
   "source": [
    "from plotly import __version__\n",
    "from plotly.offline import download_plotlyjs, init_notebook_mode, plot, iplot\n",
    "import plotly.graph_objects as go\n",
    "from plotly.subplots import make_subplots\n",
    "import cufflinks as cf\n",
    "init_notebook_mode(connected=True)\n",
    "cf.go_offline()\n",
    "import plotly.express as px\n",
    "import chart_studio.plotly as py"
   ]
  },
  {
   "cell_type": "code",
   "execution_count": 724,
   "metadata": {},
   "outputs": [],
   "source": [
    "# sort data by 'Datum column'\n",
    "data_sorted = data_clean.sort_values(by = 'Datum')\n",
    "data_gp = data_sorted.groupby([data_sorted['Ausführende Firma'], \n",
    "                    data_sorted['reference_nr']]).mean().iloc[:, [0,2]]"
   ]
  },
  {
   "cell_type": "code",
   "execution_count": 725,
   "metadata": {},
   "outputs": [
    {
     "data": {
      "text/plain": [
       "GP[€]            321894.683285\n",
       "Stundenarbeit      2532.333333\n",
       "dtype: float64"
      ]
     },
     "execution_count": 725,
     "metadata": {},
     "output_type": "execute_result"
    }
   ],
   "source": [
    "data_gp.sum()"
   ]
  },
  {
   "cell_type": "code",
   "execution_count": 726,
   "metadata": {},
   "outputs": [],
   "source": [
    "data_wb = data_sorted.groupby([data_sorted['Ausführende Firma'], \n",
    "                    data_sorted['reference_nr'], data_sorted['Weiterbelastung an Firma']]).sum().iloc[:, [1]]"
   ]
  },
  {
   "cell_type": "code",
   "execution_count": 727,
   "metadata": {},
   "outputs": [
    {
     "data": {
      "text/plain": [
       "Weiterbelastungs-betrag [€]    234316.41\n",
       "dtype: float64"
      ]
     },
     "execution_count": 727,
     "metadata": {},
     "output_type": "execute_result"
    }
   ],
   "source": [
    "data_wb.sum()"
   ]
  },
  {
   "cell_type": "markdown",
   "metadata": {},
   "source": [
    "## Testing nltk"
   ]
  },
  {
   "cell_type": "code",
   "execution_count": 728,
   "metadata": {},
   "outputs": [],
   "source": [
    "import nltk"
   ]
  },
  {
   "cell_type": "code",
   "execution_count": 729,
   "metadata": {},
   "outputs": [
    {
     "data": {
      "text/html": [
       "<div>\n",
       "<style scoped>\n",
       "    .dataframe tbody tr th:only-of-type {\n",
       "        vertical-align: middle;\n",
       "    }\n",
       "\n",
       "    .dataframe tbody tr th {\n",
       "        vertical-align: top;\n",
       "    }\n",
       "\n",
       "    .dataframe thead th {\n",
       "        text-align: right;\n",
       "    }\n",
       "</style>\n",
       "<table border=\"1\" class=\"dataframe\">\n",
       "  <thead>\n",
       "    <tr style=\"text-align: right;\">\n",
       "      <th></th>\n",
       "      <th>Datum</th>\n",
       "      <th>reference_nr</th>\n",
       "      <th>Ausführende Firma</th>\n",
       "      <th>Sachzusammenhang</th>\n",
       "      <th>Leistungs-beschreibung</th>\n",
       "      <th>Bauteil</th>\n",
       "      <th>GP[€]</th>\n",
       "      <th>Weiterbelastung an Firma</th>\n",
       "      <th>Weiterbelastungs-betrag [€]</th>\n",
       "      <th>Gründe</th>\n",
       "      <th>Nachweis_art</th>\n",
       "      <th>Stundenarbeit</th>\n",
       "    </tr>\n",
       "  </thead>\n",
       "  <tbody>\n",
       "    <tr>\n",
       "      <th>0</th>\n",
       "      <td>NaT</td>\n",
       "      <td>1286</td>\n",
       "      <td>Allianz</td>\n",
       "      <td>AG -Aufgaben</td>\n",
       "      <td>Verlängerung  AG Bauleistungsversicherungen</td>\n",
       "      <td>Alle</td>\n",
       "      <td>309.0</td>\n",
       "      <td>ist noch  festzulegen</td>\n",
       "      <td>309.0</td>\n",
       "      <td>Bauzeitenverlängerung</td>\n",
       "      <td>rechnung</td>\n",
       "      <td>NaN</td>\n",
       "    </tr>\n",
       "    <tr>\n",
       "      <th>1</th>\n",
       "      <td>2019-04-18</td>\n",
       "      <td>2298</td>\n",
       "      <td>B&amp;M</td>\n",
       "      <td>Beschädigung der Attika</td>\n",
       "      <td>Attika: Nachgedämmte Flächen mit Armierung ein...</td>\n",
       "      <td>nan</td>\n",
       "      <td>1096.2</td>\n",
       "      <td>Jahnke</td>\n",
       "      <td>121.8</td>\n",
       "      <td>Mangelbehebung</td>\n",
       "      <td>Stundenzettel</td>\n",
       "      <td>21.0</td>\n",
       "    </tr>\n",
       "  </tbody>\n",
       "</table>\n",
       "</div>"
      ],
      "text/plain": [
       "       Datum  reference_nr Ausführende Firma         Sachzusammenhang  \\\n",
       "0        NaT          1286           Allianz            AG -Aufgaben    \n",
       "1 2019-04-18          2298               B&M  Beschädigung der Attika   \n",
       "\n",
       "                              Leistungs-beschreibung Bauteil   GP[€]  \\\n",
       "0       Verlängerung  AG Bauleistungsversicherungen     Alle   309.0   \n",
       "1  Attika: Nachgedämmte Flächen mit Armierung ein...     nan  1096.2   \n",
       "\n",
       "  Weiterbelastung an Firma  Weiterbelastungs-betrag [€]  \\\n",
       "0    ist noch  festzulegen                        309.0   \n",
       "1                   Jahnke                        121.8   \n",
       "\n",
       "                  Gründe   Nachweis_art  Stundenarbeit  \n",
       "0  Bauzeitenverlängerung       rechnung            NaN  \n",
       "1         Mangelbehebung  Stundenzettel           21.0  "
      ]
     },
     "execution_count": 729,
     "metadata": {},
     "output_type": "execute_result"
    }
   ],
   "source": [
    "data_clean.head(2)"
   ]
  },
  {
   "cell_type": "code",
   "execution_count": 730,
   "metadata": {},
   "outputs": [],
   "source": [
    "data_clean['Leistungs-beschreibung'] = data_clean['Leistungs-beschreibung'].apply(str) "
   ]
  },
  {
   "cell_type": "code",
   "execution_count": 731,
   "metadata": {},
   "outputs": [
    {
     "data": {
      "text/html": [
       "<div>\n",
       "<style scoped>\n",
       "    .dataframe tbody tr th:only-of-type {\n",
       "        vertical-align: middle;\n",
       "    }\n",
       "\n",
       "    .dataframe tbody tr th {\n",
       "        vertical-align: top;\n",
       "    }\n",
       "\n",
       "    .dataframe thead th {\n",
       "        text-align: right;\n",
       "    }\n",
       "</style>\n",
       "<table border=\"1\" class=\"dataframe\">\n",
       "  <thead>\n",
       "    <tr style=\"text-align: right;\">\n",
       "      <th></th>\n",
       "      <th>Ausführende Firma</th>\n",
       "      <th>Leistungs-beschreibung</th>\n",
       "    </tr>\n",
       "  </thead>\n",
       "  <tbody>\n",
       "    <tr>\n",
       "      <th>0</th>\n",
       "      <td>Allianz</td>\n",
       "      <td>Verlängerung  AG Bauleistungsversicherungen</td>\n",
       "    </tr>\n",
       "    <tr>\n",
       "      <th>1</th>\n",
       "      <td>B&amp;M</td>\n",
       "      <td>Attika: Nachgedämmte Flächen mit Armierung ein...</td>\n",
       "    </tr>\n",
       "    <tr>\n",
       "      <th>2</th>\n",
       "      <td>B&amp;M</td>\n",
       "      <td>Attika: Nachgedämmte Flächen mit Armierung ein...</td>\n",
       "    </tr>\n",
       "    <tr>\n",
       "      <th>3</th>\n",
       "      <td>B&amp;M</td>\n",
       "      <td>Attika: Nachgedämmte Flächen mit Armierung ein...</td>\n",
       "    </tr>\n",
       "    <tr>\n",
       "      <th>4</th>\n",
       "      <td>B&amp;M</td>\n",
       "      <td>Attika: Nachgedämmte Flächen mit Armierung ein...</td>\n",
       "    </tr>\n",
       "    <tr>\n",
       "      <th>...</th>\n",
       "      <td>...</td>\n",
       "      <td>...</td>\n",
       "    </tr>\n",
       "    <tr>\n",
       "      <th>545</th>\n",
       "      <td>Spektral</td>\n",
       "      <td>Verlängerung der Vorhaltung zu Pos. NA06-005:\\...</td>\n",
       "    </tr>\n",
       "    <tr>\n",
       "      <th>546</th>\n",
       "      <td>Spektral</td>\n",
       "      <td>Verlängerung der Vorhaltung zu Pos. NA06-001\\n...</td>\n",
       "    </tr>\n",
       "    <tr>\n",
       "      <th>547</th>\n",
       "      <td>Vieweg</td>\n",
       "      <td>gem. PTC:  Aufspitzen  Fussboden, 2 h</td>\n",
       "    </tr>\n",
       "    <tr>\n",
       "      <th>548</th>\n",
       "      <td>Spektral</td>\n",
       "      <td>Verlängerung der Vorhaltung zu Pos.NA02-001: S...</td>\n",
       "    </tr>\n",
       "    <tr>\n",
       "      <th>549</th>\n",
       "      <td>B&amp;M</td>\n",
       "      <td>an- und abfahrt + Baustelleneinrichtung .\\nUG-...</td>\n",
       "    </tr>\n",
       "  </tbody>\n",
       "</table>\n",
       "<p>548 rows × 2 columns</p>\n",
       "</div>"
      ],
      "text/plain": [
       "    Ausführende Firma                             Leistungs-beschreibung\n",
       "0             Allianz       Verlängerung  AG Bauleistungsversicherungen \n",
       "1                 B&M  Attika: Nachgedämmte Flächen mit Armierung ein...\n",
       "2                 B&M  Attika: Nachgedämmte Flächen mit Armierung ein...\n",
       "3                 B&M  Attika: Nachgedämmte Flächen mit Armierung ein...\n",
       "4                 B&M  Attika: Nachgedämmte Flächen mit Armierung ein...\n",
       "..                ...                                                ...\n",
       "545          Spektral  Verlängerung der Vorhaltung zu Pos. NA06-005:\\...\n",
       "546          Spektral  Verlängerung der Vorhaltung zu Pos. NA06-001\\n...\n",
       "547            Vieweg              gem. PTC:  Aufspitzen  Fussboden, 2 h\n",
       "548          Spektral  Verlängerung der Vorhaltung zu Pos.NA02-001: S...\n",
       "549               B&M  an- und abfahrt + Baustelleneinrichtung .\\nUG-...\n",
       "\n",
       "[548 rows x 2 columns]"
      ]
     },
     "execution_count": 731,
     "metadata": {},
     "output_type": "execute_result"
    }
   ],
   "source": [
    "data_prep = data_clean[['Ausführende Firma', 'Leistungs-beschreibung']].dropna().copy()\n",
    "data_prep"
   ]
  },
  {
   "cell_type": "code",
   "execution_count": 732,
   "metadata": {},
   "outputs": [],
   "source": [
    "import string\n",
    "from nltk.corpus import stopwords\n",
    "\n",
    "def text_process(description):\n",
    "    '''\n",
    "    Takes in a string and does the following:\n",
    "    \n",
    "    1. remove punctuation\n",
    "    2. remove stop words\n",
    "    3. return list of clean text words\n",
    "    '''\n",
    "    \n",
    "    from nltk.corpus import stopwords\n",
    "    import string\n",
    "    \n",
    "    # 1.\n",
    "    mess_nopunc = ''.join([c for c in description if c not in string.punctuation])\n",
    "    # 2.\n",
    "    mess_clean = [x for x in mess_nopunc.split() if x.lower() not in stopwords.words('german')]\n",
    "    #3. \n",
    "    return mess_clean"
   ]
  },
  {
   "cell_type": "code",
   "execution_count": 733,
   "metadata": {},
   "outputs": [],
   "source": [
    "from sklearn.feature_extraction.text import CountVectorizer\n",
    "from sklearn.feature_extraction.text import TfidfTransformer\n",
    "from sklearn.naive_bayes import MultinomialNB\n",
    "from sklearn.pipeline import Pipeline\n",
    "from sklearn.ensemble import RandomForestClassifier\n",
    "from sklearn.model_selection import train_test_split"
   ]
  },
  {
   "cell_type": "code",
   "execution_count": 734,
   "metadata": {},
   "outputs": [],
   "source": [
    "msg_train , msg_test, label_train, label_test = train_test_split(data_prep['Leistungs-beschreibung'],\n",
    "                                                                 data_prep['Ausführende Firma'], test_size = 0.3)"
   ]
  },
  {
   "cell_type": "code",
   "execution_count": 735,
   "metadata": {},
   "outputs": [],
   "source": [
    "pipeline = Pipeline(([\n",
    "    ('bow', CountVectorizer(analyzer=text_process)),\n",
    "    ('tfidf', TfidfTransformer()),\n",
    "    ('classifier', RandomForestClassifier()) # this can be any model you want\n",
    "]))"
   ]
  },
  {
   "cell_type": "code",
   "execution_count": 736,
   "metadata": {},
   "outputs": [
    {
     "data": {
      "text/plain": [
       "Pipeline(steps=[('bow',\n",
       "                 CountVectorizer(analyzer=<function text_process at 0x0000022A101B99D0>)),\n",
       "                ('tfidf', TfidfTransformer()),\n",
       "                ('classifier', RandomForestClassifier())])"
      ]
     },
     "execution_count": 736,
     "metadata": {},
     "output_type": "execute_result"
    }
   ],
   "source": [
    "pipeline.fit(msg_train, label_train)"
   ]
  },
  {
   "cell_type": "code",
   "execution_count": 737,
   "metadata": {},
   "outputs": [],
   "source": [
    "pred = pipeline.predict(msg_test)"
   ]
  },
  {
   "cell_type": "code",
   "execution_count": 738,
   "metadata": {},
   "outputs": [],
   "source": [
    "from sklearn.metrics import classification_report\n",
    "from sklearn.metrics import confusion_matrix"
   ]
  },
  {
   "cell_type": "code",
   "execution_count": 739,
   "metadata": {},
   "outputs": [
    {
     "name": "stdout",
     "output_type": "stream",
     "text": [
      "              precision    recall  f1-score   support\n",
      "\n",
      "     Allianz       0.00      0.00      0.00         1\n",
      "         B&M       0.91      0.95      0.93        22\n",
      "     Behörde       1.00      1.00      1.00         3\n",
      "  Gegenbauer       1.00      0.98      0.99        56\n",
      " Hildebrandt       1.00      1.00      1.00         6\n",
      "        KOHA       0.67      0.77      0.71        13\n",
      "     Lindner       0.94      0.94      0.94        50\n",
      "         MBM       0.00      0.00      0.00         1\n",
      "    Spektral       0.78      0.78      0.78         9\n",
      "      Vieweg       1.00      1.00      1.00         4\n",
      "\n",
      "    accuracy                           0.93       165\n",
      "   macro avg       0.73      0.74      0.74       165\n",
      "weighted avg       0.92      0.93      0.92       165\n",
      "\n"
     ]
    },
    {
     "name": "stderr",
     "output_type": "stream",
     "text": [
      "C:\\Users\\moham\\anaconda3\\lib\\site-packages\\sklearn\\metrics\\_classification.py:1221: UndefinedMetricWarning:\n",
      "\n",
      "Precision and F-score are ill-defined and being set to 0.0 in labels with no predicted samples. Use `zero_division` parameter to control this behavior.\n",
      "\n"
     ]
    }
   ],
   "source": [
    "print(classification_report(label_test, pred))"
   ]
  },
  {
   "cell_type": "code",
   "execution_count": 740,
   "metadata": {},
   "outputs": [
    {
     "name": "stdout",
     "output_type": "stream",
     "text": [
      "[[ 0  0  0  0  0  0  0  0  1  0]\n",
      " [ 0 21  0  0  0  1  0  0  0  0]\n",
      " [ 0  0  3  0  0  0  0  0  0  0]\n",
      " [ 0  1  0 55  0  0  0  0  0  0]\n",
      " [ 0  0  0  0  6  0  0  0  0  0]\n",
      " [ 0  0  0  0  0 10  2  0  1  0]\n",
      " [ 0  1  0  0  0  2 47  0  0  0]\n",
      " [ 0  0  0  0  0  0  1  0  0  0]\n",
      " [ 0  0  0  0  0  2  0  0  7  0]\n",
      " [ 0  0  0  0  0  0  0  0  0  4]]\n"
     ]
    }
   ],
   "source": [
    "print(confusion_matrix(label_test, pred))"
   ]
  },
  {
   "cell_type": "code",
   "execution_count": null,
   "metadata": {},
   "outputs": [],
   "source": []
  },
  {
   "cell_type": "code",
   "execution_count": null,
   "metadata": {},
   "outputs": [],
   "source": []
  },
  {
   "cell_type": "code",
   "execution_count": null,
   "metadata": {},
   "outputs": [],
   "source": []
  }
 ],
 "metadata": {
  "kernelspec": {
   "display_name": "Python 3",
   "language": "python",
   "name": "python3"
  },
  "language_info": {
   "codemirror_mode": {
    "name": "ipython",
    "version": 3
   },
   "file_extension": ".py",
   "mimetype": "text/x-python",
   "name": "python",
   "nbconvert_exporter": "python",
   "pygments_lexer": "ipython3",
   "version": "3.8.1"
  }
 },
 "nbformat": 4,
 "nbformat_minor": 4
}
